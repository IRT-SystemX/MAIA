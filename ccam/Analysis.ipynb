{
 "cells": [
  {
   "cell_type": "code",
   "execution_count": null,
   "id": "204f3896",
   "metadata": {},
   "outputs": [],
   "source": [
    "import pickle\n",
    "import pandas as pd\n",
    "import plotly.express as px"
   ]
  },
  {
   "cell_type": "code",
   "execution_count": null,
   "id": "34f608d8",
   "metadata": {},
   "outputs": [],
   "source": [
    "# Choose a case to configure what is displayed in the plots\n",
    "case = \"paris\"\n",
    "\n",
    "# Open cases: brussels madrid paris\n",
    "# Extended cases: extended_brussels extended_madrid extended_paris"
   ]
  },
  {
   "cell_type": "code",
   "execution_count": null,
   "id": "47d495f8",
   "metadata": {},
   "outputs": [],
   "source": [
    "# Choose fixed parameters\n",
    "area = \"main\"\n",
    "capacity = 14\n",
    "seed = 1000"
   ]
  },
  {
   "cell_type": "code",
   "execution_count": null,
   "id": "df29bf90",
   "metadata": {},
   "outputs": [],
   "source": [
    "# Prepare loading\n",
    "source = None\n",
    "\n",
    "if case in (\"paris\", \"madrid\", \"brussels\"):\n",
    "    source = \"results/{case}/analysis/{area}_{profile}_{seed}_{fleet_size}_{capacity}.pickle\"\n",
    "elif case in (\"extended_brussels\", \"extended_madrid\", \"extended_paris\"):\n",
    "    case = case.replace(\"extended_\", \"\")\n",
    "    source = \"../extended/{case}/results/analysis/{area}_{profile}_{seed}_{fleet_size}_{capacity}.pickle\"\n",
    "\n",
    "assert source is not None"
   ]
  },
  {
   "cell_type": "code",
   "execution_count": null,
   "id": "7a8311aa",
   "metadata": {},
   "outputs": [],
   "source": [
    "# Load results\n",
    "df_daily = []\n",
    "df_hourly = []\n",
    "\n",
    "for profile in [\"economy\", \"business\"]:\n",
    "    for fleet_size in [50, 100, 200]:\n",
    "        with open(source.format(case = case, area = area, fleet_size = fleet_size, seed = seed, capacity = capacity, profile = profile), \"rb\") as f:\n",
    "            data = pickle.load(f)\n",
    "            \n",
    "            df_partial = data[\"daily\"].assign(fleet_size = fleet_size)\n",
    "            df_partial = df_partial[df_partial[\"passenger_profile\"] == profile]\n",
    "            df_daily.append(df_partial)\n",
    "\n",
    "            df_partial = data[\"hourly\"].assign(fleet_size = fleet_size)\n",
    "            df_partial = df_partial[df_partial[\"passenger_profile\"] == profile]\n",
    "            df_hourly.append(df_partial)\n",
    "\n",
    "df_daily = pd.concat(df_daily)\n",
    "df_hourly = pd.concat(df_hourly)"
   ]
  },
  {
   "cell_type": "markdown",
   "id": "74d4f821",
   "metadata": {},
   "source": [
    "### Service level analysis"
   ]
  },
  {
   "cell_type": "code",
   "execution_count": null,
   "id": "d227ab72",
   "metadata": {},
   "outputs": [],
   "source": [
    "df_plot = df_daily.copy()\n",
    "df_plot = df_plot.rename(columns = { \"fleet_size\": \"Fleet size\", \"rejection_rate\": \"Rejection rate\", \"passenger_profile\": \"Profile\" })\n",
    "px.line(df_plot, x = \"Fleet size\", y = \"Rejection rate\", color = \"Profile\", title = \"Rejection rate\")"
   ]
  },
  {
   "cell_type": "code",
   "execution_count": null,
   "id": "56586efe",
   "metadata": {},
   "outputs": [],
   "source": [
    "df_plot = df_daily.copy()\n",
    "df_plot[\"travel_time\"] /= 60.0\n",
    "df_plot = df_plot.rename(columns = { \"fleet_size\": \"Fleet size\", \"travel_time\": \"Mean travel time [min]\", \"passenger_profile\": \"Profile\" })\n",
    "px.line(df_plot, x = \"Fleet size\", y = \"Mean travel time [min]\", color = \"Profile\", title = \"Average travel time\")"
   ]
  },
  {
   "cell_type": "code",
   "execution_count": null,
   "id": "c5e352c1",
   "metadata": {},
   "outputs": [],
   "source": [
    "df_plot = df_daily.copy()\n",
    "df_plot[\"wait_time\"] /= 60.0\n",
    "df_plot = df_plot.rename(columns = { \"fleet_size\": \"Fleet size\", \"wait_time\": \"Mean wait time [min]\", \"passenger_profile\": \"Profile\" })\n",
    "px.line(df_plot, x = \"Fleet size\", y = \"Mean wait time [min]\", color = \"Profile\", title = \"Average wait time\")"
   ]
  },
  {
   "cell_type": "code",
   "execution_count": null,
   "id": "cd412da7",
   "metadata": {},
   "outputs": [],
   "source": [
    "df_plot = df_daily.copy()\n",
    "df_plot = df_plot.rename(columns = { \"fleet_size\": \"Fleet size\", \"detour_factor\": \"Detour factor\", \"passenger_profile\": \"Profile\" })\n",
    "px.line(df_plot, x = \"Fleet size\", y = \"Detour factor\", color = \"Profile\", title = \"Detour factor\")"
   ]
  },
  {
   "cell_type": "markdown",
   "id": "d1714575",
   "metadata": {},
   "source": [
    "### Hourly analysis"
   ]
  },
  {
   "cell_type": "code",
   "execution_count": null,
   "id": "822d6004",
   "metadata": {},
   "outputs": [],
   "source": [
    "df_plot = df_hourly.copy()\n",
    "df_plot = df_plot.rename(columns = { \"hour\": \"Hour\", \"fleet_size\": \"Fleet size\", \"departures\": \"Departures\", \"passenger_profile\": \"Profile\" })\n",
    "px.line(df_plot, x = \"Hour\", y = \"Departures\", color = \"Profile\", animation_frame = \"Fleet size\", title = \"Departures by hour\")"
   ]
  },
  {
   "cell_type": "code",
   "execution_count": null,
   "id": "2be31b13",
   "metadata": {},
   "outputs": [],
   "source": [
    "df_plot = df_hourly.copy()\n",
    "df_plot = df_plot.rename(columns = { \"hour\": \"Hour\", \"fleet_size\": \"Fleet size\", \"rejection_rate\": \"Rejection rate\", \"passenger_profile\": \"Profile\" })\n",
    "px.line(df_plot, x = \"Hour\", y = \"Rejection rate\", color = \"Profile\", animation_frame = \"Fleet size\", title = \"Rejection rate by hour\")"
   ]
  },
  {
   "cell_type": "code",
   "execution_count": null,
   "id": "ea8d6667",
   "metadata": {},
   "outputs": [],
   "source": [
    "df_plot = df_hourly.copy()\n",
    "df_plot[\"travel_time\"] /= 60\n",
    "df_plot = df_plot.rename(columns = { \"hour\": \"Hour\", \"fleet_size\": \"Fleet size\", \"travel_time\": \"Mean travel time [min]\", \"passenger_profile\": \"Profile\" })\n",
    "px.line(df_plot, x = \"Hour\", y = \"Mean travel time [min]\", color = \"Profile\", animation_frame = \"Fleet size\", title = \"Average travel time by hour\")"
   ]
  },
  {
   "cell_type": "code",
   "execution_count": null,
   "id": "48d840e0",
   "metadata": {},
   "outputs": [],
   "source": [
    "df_plot = df_hourly.copy()\n",
    "df_plot[\"wait_time\"] /= 60\n",
    "df_plot = df_plot.rename(columns = { \"hour\": \"Hour\", \"fleet_size\": \"Fleet size\", \"wait_time\": \"Mean wait time [min]\", \"passenger_profile\": \"Profile\" })\n",
    "px.line(df_plot, x = \"Hour\", y = \"Mean wait time [min]\", color = \"Profile\", animation_frame = \"Fleet size\", title = \"Average wait time by hour\")"
   ]
  },
  {
   "cell_type": "code",
   "execution_count": null,
   "id": "2ada0db3",
   "metadata": {},
   "outputs": [],
   "source": [
    "df_plot = df_hourly.copy()\n",
    "df_plot = df_plot.rename(columns = { \"hour\": \"Hour\", \"fleet_size\": \"Fleet size\", \"detour_factor\": \"Detour factor\", \"passenger_profile\": \"Profile\" })\n",
    "px.line(df_plot, x = \"Hour\", y = \"Detour factor\", color = \"Profile\", animation_frame = \"Fleet size\", title = \"Detour factor by hour\")"
   ]
  }
 ],
 "metadata": {
  "kernelspec": {
   "display_name": ".venv",
   "language": "python",
   "name": "python3"
  },
  "language_info": {
   "codemirror_mode": {
    "name": "ipython",
    "version": 3
   },
   "file_extension": ".py",
   "mimetype": "text/x-python",
   "name": "python",
   "nbconvert_exporter": "python",
   "pygments_lexer": "ipython3",
   "version": "3.12.3"
  }
 },
 "nbformat": 4,
 "nbformat_minor": 5
}
