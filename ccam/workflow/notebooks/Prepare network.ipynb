{
 "cells": [
  {
   "cell_type": "code",
   "execution_count": null,
   "metadata": {},
   "outputs": [],
   "source": [
    "import osmium\n",
    "import osmium.filter\n",
    "\n",
    "import geopandas as gpd\n",
    "import shapely.geometry as sgeo"
   ]
  },
  {
   "cell_type": "code",
   "execution_count": null,
   "metadata": {},
   "outputs": [],
   "source": [
    "if \"snakemake\" in locals():\n",
    "    input_path = snakemake.input[\"osm\"]\n",
    "    areas_path = snakemake.input[\"areas\"]\n",
    "    output_path = snakemake.output[0]\n",
    "    area = snakemake.params[\"area\"]\n",
    "\n",
    "else:\n",
    "    input_path = \"../../resources/paris/osm/ile-de-france-latest.osm.pbf\"\n",
    "    areas_path = \"../../resources/paris/areas.gpkg\"\n",
    "    output_path = \"../../results/paris/networks/network.osm\"\n",
    "    area = \"network\""
   ]
  },
  {
   "cell_type": "code",
   "execution_count": 6,
   "metadata": {},
   "outputs": [],
   "source": [
    "# Load area\n",
    "df_areas = gpd.read_file(areas_path)\n",
    "df_areas = df_areas[df_areas[\"name\"] == area]\n",
    "assert len(df_areas) == 1\n",
    "area = df_areas.to_crs(\"EPSG:4326\")[\"geometry\"].values[0]"
   ]
  },
  {
   "cell_type": "code",
   "execution_count": 7,
   "metadata": {},
   "outputs": [],
   "source": [
    "# Filter the data set for highways and by shape\n",
    "with osmium.BackReferenceWriter(output_path, ref_src = input_path, overwrite = True) as  writer:\n",
    "    for item in osmium.FileProcessor(input_path).with_filter(osmium.filter.KeyFilter(\"highway\")).with_locations().with_filter(osmium.filter.GeoInterfaceFilter()):\n",
    "        geometry = sgeo.shape(item.__geo_interface__[\"geometry\"])\n",
    "\n",
    "        if area.intersects(geometry):\n",
    "            writer.add(item)"
   ]
  }
 ],
 "metadata": {
  "kernelspec": {
   "display_name": ".venv",
   "language": "python",
   "name": "python3"
  },
  "language_info": {
   "codemirror_mode": {
    "name": "ipython",
    "version": 3
   },
   "file_extension": ".py",
   "mimetype": "text/x-python",
   "name": "python",
   "nbconvert_exporter": "python",
   "pygments_lexer": "ipython3",
   "version": "3.12.3"
  }
 },
 "nbformat": 4,
 "nbformat_minor": 2
}
