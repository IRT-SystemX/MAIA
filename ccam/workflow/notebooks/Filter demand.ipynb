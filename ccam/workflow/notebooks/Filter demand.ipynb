{
 "cells": [
  {
   "cell_type": "code",
   "execution_count": 1,
   "metadata": {},
   "outputs": [],
   "source": [
    "import geopandas as gpd\n",
    "import pandas as pd\n",
    "import shapely.geometry as sgeo"
   ]
  },
  {
   "cell_type": "code",
   "execution_count": 2,
   "metadata": {},
   "outputs": [],
   "source": [
    "if \"snakemake\" in locals():\n",
    "    demand_path = snakemake.input[\"demand\"]\n",
    "    areas_path = snakemake.input[\"areas\"]\n",
    "    output_path = snakemake.output[0]\n",
    "    area = snakemake.params[\"area\"]\n",
    "\n",
    "else:\n",
    "    demand_path = \"../../../demand/results/paris/trips/passenger_trips_seed1000.gpkg\"\n",
    "    areas_path = \"../../resources/paris/spatial.gpkg\"\n",
    "    output_path = \"../../results/paris/demand/filtered.gpkg\"\n",
    "    area = \"main\""
   ]
  },
  {
   "cell_type": "code",
   "execution_count": 3,
   "metadata": {},
   "outputs": [],
   "source": [
    "# Load area\n",
    "df_areas = gpd.read_file(areas_path)\n",
    "df_areas = df_areas[df_areas[\"name\"] == area]\n",
    "assert len(df_areas) == 1"
   ]
  },
  {
   "cell_type": "code",
   "execution_count": 4,
   "metadata": {},
   "outputs": [],
   "source": [
    "# Load demand\n",
    "df_demand = gpd.read_file(demand_path)\n",
    "\n",
    "df_demand[\"origin_inside\"] = False\n",
    "df_demand[\"destination_inside\"] = False"
   ]
  },
  {
   "cell_type": "code",
   "execution_count": 5,
   "metadata": {},
   "outputs": [],
   "source": [
    "# Intersect origins and destinations\n",
    "df_origin = df_demand[[\"geometry\"]].copy()\n",
    "df_origin[\"geometry\"] = df_origin[\"geometry\"].apply(lambda line: sgeo.Point(*line.coords[0]))\n",
    "df_origin = gpd.sjoin(df_origin, df_areas, predicate = \"within\")\n",
    "df_demand.loc[df_origin.index, \"origin_inside\"] = True\n",
    "\n",
    "df_destination = df_demand[[\"geometry\"]].copy()\n",
    "df_destination[\"geometry\"] = df_destination[\"geometry\"].apply(lambda line: sgeo.Point(*line.coords[1]))\n",
    "df_destination = gpd.sjoin(df_destination, df_areas, predicate = \"within\")\n",
    "df_demand.loc[df_destination.index, \"destination_inside\"] = True"
   ]
  },
  {
   "cell_type": "code",
   "execution_count": 6,
   "metadata": {},
   "outputs": [],
   "source": [
    "# Filter relevant trips\n",
    "df_demand = df_demand[\n",
    "    (df_demand[\"is_access\"] & df_demand[\"origin_inside\"]) |\n",
    "    (~df_demand[\"is_access\"] & df_demand[\"destination_inside\"])\n",
    "]"
   ]
  },
  {
   "cell_type": "code",
   "execution_count": 7,
   "metadata": {},
   "outputs": [],
   "source": [
    "# Output\n",
    "df_demand.to_file(output_path)"
   ]
  }
 ],
 "metadata": {
  "kernelspec": {
   "display_name": ".venv",
   "language": "python",
   "name": "python3"
  },
  "language_info": {
   "codemirror_mode": {
    "name": "ipython",
    "version": 3
   },
   "file_extension": ".py",
   "mimetype": "text/x-python",
   "name": "python",
   "nbconvert_exporter": "python",
   "pygments_lexer": "ipython3",
   "version": "3.12.3"
  }
 },
 "nbformat": 4,
 "nbformat_minor": 2
}
