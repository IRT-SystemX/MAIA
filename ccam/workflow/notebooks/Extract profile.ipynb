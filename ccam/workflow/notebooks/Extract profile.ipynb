{
 "cells": [
  {
   "cell_type": "code",
   "execution_count": null,
   "id": "0ce08423",
   "metadata": {},
   "outputs": [],
   "source": [
    "import geopandas as gpd"
   ]
  },
  {
   "cell_type": "code",
   "execution_count": 2,
   "id": "09e28383",
   "metadata": {},
   "outputs": [],
   "source": [
    "if \"snakemake\" in locals():\n",
    "    demand_path = snakemake.input[0]\n",
    "    output_path = snakemake.output[0]\n",
    "    profile = snakemake.params[\"profile\"]\n",
    "\n",
    "else:\n",
    "    demand_path = \"../../results/paris/demand/enriched/demand_main_1000.gpkg\"\n",
    "    output_path = \"../../results/paris/demand/profile/demand_main_economy_1000.gpkg\"\n",
    "    profile = \"economy\""
   ]
  },
  {
   "cell_type": "code",
   "execution_count": 3,
   "id": "e16b29f3",
   "metadata": {},
   "outputs": [],
   "source": [
    "# Load demand\n",
    "df_demand = gpd.read_file(demand_path)"
   ]
  },
  {
   "cell_type": "code",
   "execution_count": null,
   "id": "d518e70b",
   "metadata": {},
   "outputs": [],
   "source": [
    "# Filter profile\n",
    "if profile != \"all\":\n",
    "    df_demand = df_demand[df_demand[\"passenger_profile\"] == profile]\n",
    "    \n",
    "assert len(df_demand) > 0"
   ]
  },
  {
   "cell_type": "code",
   "execution_count": null,
   "id": "2715da2f",
   "metadata": {},
   "outputs": [],
   "source": [
    "# Output\n",
    "df_demand.to_file(output_path)"
   ]
  }
 ],
 "metadata": {
  "kernelspec": {
   "display_name": ".venv",
   "language": "python",
   "name": "python3"
  },
  "language_info": {
   "codemirror_mode": {
    "name": "ipython",
    "version": 3
   },
   "file_extension": ".py",
   "mimetype": "text/x-python",
   "name": "python",
   "nbconvert_exporter": "python",
   "pygments_lexer": "ipython3",
   "version": "3.12.3"
  }
 },
 "nbformat": 4,
 "nbformat_minor": 5
}
