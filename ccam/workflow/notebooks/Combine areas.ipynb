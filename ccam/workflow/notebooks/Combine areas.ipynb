{
 "cells": [
  {
   "cell_type": "code",
   "execution_count": 31,
   "id": "ccf00222",
   "metadata": {},
   "outputs": [],
   "source": [
    "import geopandas as gpd\n",
    "import pandas as pd\n",
    "import itertools"
   ]
  },
  {
   "cell_type": "code",
   "execution_count": 32,
   "id": "a08a6839",
   "metadata": {},
   "outputs": [],
   "source": [
    "if \"snakemake\" in locals():\n",
    "    input_path = snakemake.input[0]\n",
    "    output_path = snakemake.output[1]\n",
    "\n",
    "else:\n",
    "    input_path = \"../../resources/paris/spatial.gpkg\"\n",
    "    output_path = None"
   ]
  },
  {
   "cell_type": "code",
   "execution_count": 33,
   "id": "54fadbff",
   "metadata": {},
   "outputs": [],
   "source": [
    "# Load areas\n",
    "df = gpd.read_file(input_path)"
   ]
  },
  {
   "cell_type": "code",
   "execution_count": null,
   "id": "36bf2022",
   "metadata": {},
   "outputs": [],
   "source": [
    "# Keep network\n",
    "df_network = df[df[\"name\"] == \"network\"].copy()\n",
    "assert len(df_network) == 1\n",
    "\n",
    "df = df[df[\"name\"] != \"network\"].copy()"
   ]
  },
  {
   "cell_type": "code",
   "execution_count": 35,
   "id": "4a1f5c20",
   "metadata": {},
   "outputs": [],
   "source": [
    "# Construct all combinations\n",
    "names = df[\"name\"].unique()\n",
    "cases = []\n",
    "\n",
    "for k in range(1, len(names) + 1):\n",
    "    cases += itertools.combinations(names, k)\n",
    "\n",
    "if \"main\" in names:\n",
    "    cases = [case for case in cases if \"main\" in case]"
   ]
  },
  {
   "cell_type": "code",
   "execution_count": 36,
   "id": "b3f8d1a7",
   "metadata": {},
   "outputs": [],
   "source": [
    "df_result = [df_network]\n",
    "\n",
    "# Construct combined geometries\n",
    "for case in cases:\n",
    "    df_case = df[df[\"name\"].isin(case)].dissolve()\n",
    "    df_case[\"name\"] = \"+\".join(case)\n",
    "    df_result.append(df_case)\n",
    "\n",
    "df_result = pd.concat(df_result)"
   ]
  },
  {
   "cell_type": "code",
   "execution_count": null,
   "id": "04a2646a",
   "metadata": {},
   "outputs": [],
   "source": [
    "# Output\n",
    "df_result.to_file(output_path)"
   ]
  }
 ],
 "metadata": {
  "kernelspec": {
   "display_name": ".venv",
   "language": "python",
   "name": "python3"
  },
  "language_info": {
   "codemirror_mode": {
    "name": "ipython",
    "version": 3
   },
   "file_extension": ".py",
   "mimetype": "text/x-python",
   "name": "python",
   "nbconvert_exporter": "python",
   "pygments_lexer": "ipython3",
   "version": "3.12.3"
  }
 },
 "nbformat": 4,
 "nbformat_minor": 5
}
