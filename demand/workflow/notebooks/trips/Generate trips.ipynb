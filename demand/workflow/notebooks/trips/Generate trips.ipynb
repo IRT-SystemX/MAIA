{
 "cells": [
  {
   "cell_type": "code",
   "execution_count": 8,
   "metadata": {},
   "outputs": [],
   "source": [
    "import geopandas as gpd\n",
    "import pandas as pd\n",
    "import numpy as np\n",
    "import shapely.geometry as sgeo"
   ]
  },
  {
   "cell_type": "code",
   "execution_count": 9,
   "metadata": {},
   "outputs": [],
   "source": [
    "if \"snakemake\" in locals():\n",
    "    input_passengers_path = snakemake.input[\"passengers\"]\n",
    "    input_airports_path = snakemake.input[\"airports\"]\n",
    "    output_path = snakemake.output[0]\n",
    "    seed = snakemake.params[\"seed\"]\n",
    "    \n",
    "else:\n",
    "    input_passengers_path = \"../../../results/brussels/population/passengers_with_postcode_seed1000.parquet\"\n",
    "    input_airports_path = \"../../../resources/brussels/airport/location.gpkg\"\n",
    "    output_path = \"../../../results/brussels/trips/passenger_trips.parquet\"\n",
    "    seed = 0"
   ]
  },
  {
   "cell_type": "code",
   "execution_count": 10,
   "metadata": {},
   "outputs": [],
   "source": [
    "# Load data\n",
    "df_passengers = gpd.read_parquet(input_passengers_path)\n",
    "df_airports = gpd.read_file(input_airports_path)"
   ]
  },
  {
   "cell_type": "code",
   "execution_count": 11,
   "metadata": {},
   "outputs": [],
   "source": [
    "# Prepare random state\n",
    "random = np.random.RandomState(seed)"
   ]
  },
  {
   "cell_type": "code",
   "execution_count": 12,
   "metadata": {},
   "outputs": [],
   "source": [
    "# Sample access/egress\n",
    "df_passengers[\"is_access\"] = random.random_sample(len(df_passengers)) < 0.5"
   ]
  },
  {
   "cell_type": "code",
   "execution_count": 13,
   "metadata": {},
   "outputs": [],
   "source": [
    "# Sample destinations\n",
    "destinations = df_airports.sample(\n",
    "    n = len(df_passengers), replace = True, weights = \"weight\", random_state = random)[\"geometry\"]\n",
    "\n",
    "# Construct geometry\n",
    "df_passengers[\"geometry\"] = [\n",
    "    sgeo.LineString([first, second]) if is_access else sgeo.LineString([second, first])\n",
    "    for first, second, is_access in zip(\n",
    "        df_passengers[\"geometry\"], destinations, df_passengers[\"is_access\"])\n",
    "]"
   ]
  },
  {
   "cell_type": "code",
   "execution_count": 14,
   "metadata": {},
   "outputs": [],
   "source": [
    "# Sample reference times\n",
    "df_passengers[\"reference_time\"] = df_passengers[\"departure_hour\"].values * 3600\n",
    "df_passengers[\"reference_time\"] += random.random_sample(len(df_passengers)) * 3600"
   ]
  },
  {
   "cell_type": "code",
   "execution_count": 15,
   "metadata": {},
   "outputs": [],
   "source": [
    "if output_path.endswith(\"parquet\"):\n",
    "    df_passengers.to_parquet(output_path)\n",
    "else:\n",
    "    df_passengers.to_file(output_path)"
   ]
  }
 ],
 "metadata": {
  "kernelspec": {
   "display_name": "maia",
   "language": "python",
   "name": "python3"
  },
  "language_info": {
   "codemirror_mode": {
    "name": "ipython",
    "version": 3
   },
   "file_extension": ".py",
   "mimetype": "text/x-python",
   "name": "python",
   "nbconvert_exporter": "python",
   "pygments_lexer": "ipython3",
   "version": "3.12.0"
  }
 },
 "nbformat": 4,
 "nbformat_minor": 2
}
