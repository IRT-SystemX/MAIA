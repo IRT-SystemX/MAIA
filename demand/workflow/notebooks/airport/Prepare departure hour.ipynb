{
 "cells": [
  {
   "cell_type": "code",
   "execution_count": 9,
   "metadata": {},
   "outputs": [],
   "source": [
    "import pandas as pd\n",
    "import numpy as np\n",
    "import plotly.express as px"
   ]
  },
  {
   "cell_type": "code",
   "execution_count": 10,
   "metadata": {},
   "outputs": [],
   "source": [
    "if \"snakemake\" in locals():\n",
    "    output_path = snakemake.output[0]\n",
    "else:    \n",
    "    output_path = \"../../../../results/paris/airport/departure_hours.parquet\""
   ]
  },
  {
   "cell_type": "code",
   "execution_count": 11,
   "metadata": {},
   "outputs": [],
   "source": [
    "# Data\n",
    "df = pd.DataFrame({\n",
    "    \"departure_hour\": [0, 1, 2, 3, 4, 5, 6, 7, 8, 9, 10, 11, 12, 13, 14, 15, 16, 17, 18, 19, 20, 21, 22, 23],\n",
    "    \"weight\": [\n",
    "        0, 0, 0, 0, 0,\n",
    "        7500,\n",
    "        11000,\n",
    "        14500,\n",
    "        15000,\n",
    "        16000,\n",
    "        16500,\n",
    "        16500,\n",
    "        16500, \n",
    "        16000,\n",
    "        16000,\n",
    "        15500,\n",
    "        15500,\n",
    "        14000,\n",
    "        14000,\n",
    "        12500,\n",
    "        12000,\n",
    "        11000,\n",
    "        10500,\n",
    "        5000\n",
    "    ]\n",
    "})"
   ]
  },
  {
   "cell_type": "code",
   "execution_count": 12,
   "metadata": {},
   "outputs": [],
   "source": [
    "df.to_parquet(output_path)"
   ]
  }
 ],
 "metadata": {
  "kernelspec": {
   "display_name": "disco",
   "language": "python",
   "name": "python3"
  },
  "language_info": {
   "codemirror_mode": {
    "name": "ipython",
    "version": 3
   },
   "file_extension": ".py",
   "mimetype": "text/x-python",
   "name": "python",
   "nbconvert_exporter": "python",
   "pygments_lexer": "ipython3",
   "version": "3.12.0"
  }
 },
 "nbformat": 4,
 "nbformat_minor": 2
}
