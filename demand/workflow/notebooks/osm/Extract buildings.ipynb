{
 "cells": [
  {
   "cell_type": "code",
   "execution_count": 1,
   "metadata": {},
   "outputs": [],
   "source": [
    "import pandas as pd\n",
    "import geopandas as gpd\n",
    "import osmium\n",
    "import shapely.geometry as sgeo\n",
    "import os"
   ]
  },
  {
   "cell_type": "code",
   "execution_count": 2,
   "metadata": {},
   "outputs": [],
   "source": [
    "if \"snakemake\" in locals():\n",
    "    input_osm_path = snakemake.input[\"osm\"]\n",
    "    input_zones_path = snakemake.input[\"zones\"]\n",
    "\n",
    "    output_path = snakemake.output[0]\n",
    "\n",
    "    zone_attribute = snakemake.params[\"zone_attribute\"]\n",
    "else:\n",
    "    input_zones_path = \"../../../results/brussels/census/spatial.parquet\"\n",
    "    input_osm_path = \"../../../resources/brussels/osm/ile-de-france-latest.osm.pbf\"\n",
    "\n",
    "    output_path = \"../../../results/brussels/osm/locations.parquet\"\n",
    "\n",
    "    zone_attribute = \"municipality_id\"    "
   ]
  },
  {
   "cell_type": "code",
   "execution_count": null,
   "metadata": {},
   "outputs": [],
   "source": [
    "# Prepare zoning system\n",
    "df_zones = gpd.read_parquet(input_zones_path)\n",
    "df_zones = df_zones.dissolve(zone_attribute).reset_index()[[zone_attribute, \"geometry\"]]"
   ]
  },
  {
   "cell_type": "code",
   "execution_count": null,
   "metadata": {},
   "outputs": [],
   "source": [
    "# Prepare reading of the OSM data\n",
    "processor = osmium.FileProcessor(input_osm_path)\n",
    "processor = processor.with_filter(osmium.filter.KeyFilter(\"building\"))\n",
    "processor = processor.with_locations().with_filter(osmium.filter.GeoInterfaceFilter())\n",
    "\n",
    "# Obtain centroids of the buildings as point geometries\n",
    "df_buildings = gpd.GeoDataFrame(pd.DataFrame({\n",
    "    \"geometry\": [\n",
    "        sgeo.shape(item.__geo_interface__[\"geometry\"]).centroid\n",
    "        for item in processor\n",
    "    ]\n",
    "}), crs = \"EPSG:4326\").to_crs(df_zones.crs)"
   ]
  },
  {
   "cell_type": "code",
   "execution_count": null,
   "metadata": {},
   "outputs": [],
   "source": [
    "# Map buildings to zones\n",
    "df_buildings = gpd.sjoin(df_buildings, df_zones, predicate = \"within\")"
   ]
  },
  {
   "cell_type": "code",
   "execution_count": null,
   "metadata": {},
   "outputs": [],
   "source": [
    "# Output\n",
    "df_buildings.to_parquet(output_path)"
   ]
  }
 ],
 "metadata": {
  "kernelspec": {
   "display_name": ".venv",
   "language": "python",
   "name": "python3"
  },
  "language_info": {
   "codemirror_mode": {
    "name": "ipython",
    "version": 3
   },
   "file_extension": ".py",
   "mimetype": "text/x-python",
   "name": "python",
   "nbconvert_exporter": "python",
   "pygments_lexer": "ipython3",
   "version": "3.12.3"
  }
 },
 "nbformat": 4,
 "nbformat_minor": 2
}
