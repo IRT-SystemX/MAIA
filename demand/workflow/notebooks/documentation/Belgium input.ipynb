{
 "cells": [
  {
   "cell_type": "code",
   "execution_count": null,
   "metadata": {},
   "outputs": [],
   "source": [
    "import pandas as pd\n",
    "import geopandas as gpd\n",
    "import plotly.express as px\n",
    "import matplotlib.pyplot as plt"
   ]
  },
  {
   "cell_type": "code",
   "execution_count": null,
   "metadata": {},
   "outputs": [],
   "source": [
    "daily_totals_path = \"../../../results/belgium/airport/daily_totals.parquet\"\n",
    "departure_hours_path = \"../../../results/belgium/airport/departure_hours.parquet\"\n",
    "group_sizes_path = \"../../../results/belgium/airport/group_sizes.parquet\"\n",
    "passenger_profiles_path = \"../../../results/belgium/airport/passenger_profiles.parquet\"\n",
    "survey_path = \"../../../results/belgium/airport/survey.parquet\"\n",
    "spatial_path = \"../../../results/belgium/census/spatial.parquet\"\n",
    "sectors_path = \"../../../results/belgium/census/sectors.parquet\"\n",
    "municipalities_path = \"../../../results/belgium/census/municipalities.parquet\"\n",
    "\n",
    "output_path = \"/home/shoerl/temp/maia\""
   ]
  },
  {
   "cell_type": "markdown",
   "metadata": {},
   "source": [
    "### Daily passengers"
   ]
  },
  {
   "cell_type": "code",
   "execution_count": null,
   "metadata": {},
   "outputs": [],
   "source": [
    "df = pd.read_parquet(daily_totals_path)\n",
    "\n",
    "figure = px.line(df, x = \"date\", y = \"passengers\")\n",
    "\n",
    "with open(\"{}/daily_totals.png\".format(output_path), \"wb\") as f:\n",
    "    f.write(figure.to_image(\"png\", width = 600, height = 400, scale = 4))\n",
    "\n",
    "print(\"Mean:\", df[\"passengers\"].mean())\n",
    "figure.show()"
   ]
  },
  {
   "cell_type": "markdown",
   "metadata": {},
   "source": [
    "### Departure hours"
   ]
  },
  {
   "cell_type": "code",
   "execution_count": null,
   "metadata": {},
   "outputs": [],
   "source": [
    "df = pd.read_parquet(departure_hours_path)\n",
    "df = df.set_index([\"passenger_profile\", \"departure_hour\"])\n",
    "df = df.reindex(pd.MultiIndex.from_product([[\n",
    "    \"business\", \"economy\"\n",
    "], list(range(24))], names = [\"passenger_profile\", \"departure_hour\"])).reset_index().fillna(0.0)\n",
    "\n",
    "figure = px.line(df, x = \"departure_hour\", y = \"weight\", color = \"passenger_profile\")\n",
    "\n",
    "with open(\"{}/departure_hours.png\".format(output_path), \"wb\") as f:\n",
    "    f.write(figure.to_image(\"png\", width = 600, height = 400, scale = 4))\n",
    "\n",
    "figure.show()"
   ]
  },
  {
   "cell_type": "markdown",
   "metadata": {},
   "source": [
    "### Group sizes"
   ]
  },
  {
   "cell_type": "code",
   "execution_count": null,
   "metadata": {},
   "outputs": [],
   "source": [
    "df = pd.read_parquet(group_sizes_path)\n",
    "\n",
    "figure = px.bar(df, x = \"group_size\", y = \"weight\")\n",
    "\n",
    "with open(\"{}/group_sizes.png\".format(output_path), \"wb\") as f:\n",
    "    f.write(figure.to_image(\"png\", width = 600, height = 400, scale = 4))\n",
    "\n",
    "figure.show()"
   ]
  },
  {
   "cell_type": "code",
   "execution_count": null,
   "metadata": {},
   "outputs": [],
   "source": [
    "(df[\"group_size\"] * df[\"weight\"]).sum() / df[\"weight\"].sum()"
   ]
  },
  {
   "cell_type": "markdown",
   "metadata": {},
   "source": [
    "### Passenger profiles"
   ]
  },
  {
   "cell_type": "code",
   "execution_count": null,
   "metadata": {},
   "outputs": [],
   "source": [
    "df = pd.read_parquet(passenger_profiles_path)\n",
    "df"
   ]
  },
  {
   "cell_type": "markdown",
   "metadata": {},
   "source": [
    "### Survey"
   ]
  },
  {
   "cell_type": "code",
   "execution_count": null,
   "metadata": {},
   "outputs": [],
   "source": [
    "df = pd.read_parquet(survey_path)\n",
    "print(\"Observations:\", len(df))\n",
    "df.head(5)"
   ]
  },
  {
   "cell_type": "code",
   "execution_count": null,
   "metadata": {},
   "outputs": [],
   "source": [
    "print(\"Respondents:\", df[\"annual_respondents\"].sum())"
   ]
  },
  {
   "cell_type": "code",
   "execution_count": null,
   "metadata": {},
   "outputs": [],
   "source": [
    "df_plot = df.groupby([\"sex\", \"age_class\"])[\"annual_respondents\"].sum().reset_index()\n",
    "df_plot[\"sex\"] = df_plot[\"sex\"].replace({ 1: \"male\", 2: \"female\" })\n",
    "\n",
    "figure = px.bar(df_plot, x = \"age_class\", y = \"annual_respondents\", color = \"sex\", barmode = \"group\")\n",
    "\n",
    "with open(\"{}/survey.png\".format(output_path), \"wb\") as f:\n",
    "    f.write(figure.to_image(\"png\", width = 600, height = 400, scale = 4))\n",
    "\n",
    "figure.show()"
   ]
  },
  {
   "cell_type": "markdown",
   "metadata": {},
   "source": [
    "### Spatial data"
   ]
  },
  {
   "cell_type": "code",
   "execution_count": null,
   "metadata": {},
   "outputs": [],
   "source": [
    "df_municipalities = gpd.read_parquet(spatial_path)\n",
    "df_municipalities = df_municipalities.dissolve(\"municipality_id\").reset_index()"
   ]
  },
  {
   "cell_type": "code",
   "execution_count": null,
   "metadata": {},
   "outputs": [],
   "source": [
    "df_plot[\"annual_respondents\"].sum()"
   ]
  },
  {
   "cell_type": "code",
   "execution_count": null,
   "metadata": {},
   "outputs": [],
   "source": [
    "df_plot = pd.merge(\n",
    "    df_municipalities, \n",
    "    df.groupby(\"municipality_id\")[\"annual_respondents\"].sum().reset_index(),\n",
    "    on = \"municipality_id\")\n",
    "\n",
    "df_plot = df_plot[df_plot[\"annual_respondents\"] > 0]\n",
    "df_plot[\"density\"] = df_plot[\"annual_respondents\"] / (df_plot[\"geometry\"].area * 1e-6)\n",
    "\n",
    "plt.figure(dpi = 300)\n",
    "ax = df_plot.plot(\"annual_respondents\", legend = True, vmax = 1000, legend_kwds = { \"label\": \"Annual respondents\", \"orientation\": \"vertical\" }, ax = plt.gca())\n",
    "ax.set_axis_off()\n",
    "\n",
    "plt.savefig(\"{}/survey_map.png\".format(output_path))"
   ]
  },
  {
   "cell_type": "markdown",
   "metadata": {},
   "source": [
    "### Spatial"
   ]
  },
  {
   "cell_type": "code",
   "execution_count": null,
   "metadata": {},
   "outputs": [],
   "source": [
    "df_spatial = gpd.read_parquet(spatial_path)\n",
    "print(\"Municipalities:\", len(df_spatial[\"municipality_id\"].unique()))\n",
    "print(\"Sectors:\", len(df_spatial[\"sector_id\"].unique()))"
   ]
  },
  {
   "cell_type": "markdown",
   "metadata": {},
   "source": [
    "### Sectors"
   ]
  },
  {
   "cell_type": "code",
   "execution_count": null,
   "metadata": {},
   "outputs": [],
   "source": [
    "df_sectors = pd.read_parquet(sectors_path)\n",
    "df_sectors = pd.merge(df_spatial, df_sectors[[\"sector_id\", \"weight\"]], on = \"sector_id\")"
   ]
  },
  {
   "cell_type": "code",
   "execution_count": null,
   "metadata": {},
   "outputs": [],
   "source": [
    "plt.figure(dpi = 300)\n",
    "ax = df_sectors.plot(\"weight\", legend = True, vmax = 6000, legend_kwds = { \"label\": \"Inhabitants by sector\", \"orientation\": \"vertical\" }, ax = plt.gca())\n",
    "ax.set_axis_off()\n",
    "\n",
    "plt.savefig(\"{}/sectors_map.png\".format(output_path))"
   ]
  },
  {
   "cell_type": "markdown",
   "metadata": {},
   "source": [
    "### Municipalities"
   ]
  },
  {
   "cell_type": "code",
   "execution_count": null,
   "metadata": {},
   "outputs": [],
   "source": [
    "df_municipality_data = pd.read_parquet(municipalities_path)"
   ]
  },
  {
   "cell_type": "code",
   "execution_count": null,
   "metadata": {},
   "outputs": [],
   "source": [
    "df_plot = df_municipality_data.groupby([\"age_class\", \"sex\"])[\"weight\"].sum().reset_index()\n",
    "df_plot[\"sex\"] = df_plot[\"sex\"].replace({ 1: \"male\", 2: \"female\" })\n",
    "df_plot[\"age_class\"] = df_plot[\"age_class\"].astype(str)\n",
    "\n",
    "figure = px.bar(df_plot, x = \"age_class\", y = \"weight\", color = \"sex\", barmode = \"group\")\n",
    "\n",
    "with open(\"{}/municipalities_sex_age.png\".format(output_path), \"wb\") as f:\n",
    "    f.write(figure.to_image(\"png\", width = 600, height = 400, scale = 4))\n",
    "\n",
    "figure.show()"
   ]
  },
  {
   "cell_type": "code",
   "execution_count": null,
   "metadata": {},
   "outputs": [],
   "source": [
    "df_map = pd.merge(df_municipalities[[\"municipality_id\", \"geometry\"]], \n",
    "    df_municipality_data.groupby(\"municipality_id\")[\"weight\"].sum().reset_index())\n",
    "\n",
    "df_map[\"weightk\"] = df_map[\"weight\"] * 1e-3\n",
    "df_map[\"density\"] = df_map[\"weight\"] / (df_map[\"geometry\"].area / 1e6)\n",
    "\n",
    "plt.figure(dpi = 300)\n",
    "\n",
    "plt.subplot(1, 2, 1)\n",
    "ax = df_map.plot(\"weightk\", legend = True, vmax = 100, legend_kwds = { \"label\": \"Inhabitants [x1000]\", \"orientation\": \"horizontal\" }, ax = plt.gca())\n",
    "ax.set_axis_off()\n",
    "\n",
    "plt.subplot(1, 2, 2)\n",
    "ax = df_map.plot(\"density\", legend = True, vmax = 2000, legend_kwds = { \"label\": \"Density [pax/km2]\", \"orientation\": \"horizontal\" }, ax = plt.gca())\n",
    "ax.set_axis_off()\n",
    "\n",
    "plt.savefig(\"{}/municipalities_map.png\".format(output_path))"
   ]
  },
  {
   "cell_type": "code",
   "execution_count": null,
   "metadata": {},
   "outputs": [],
   "source": [
    "df_total = df_municipality_data.groupby(\"municipality_id\")[\"weight\"].sum().reset_index(name = \"total\")\n",
    "\n",
    "df_age = df_municipality_data[[\"municipality_id\", \"age\", \"weight\"]].copy()\n",
    "df_age[\"age\"] = df_age[\"age\"] * df_age[\"weight\"]\n",
    "df_age = df_age.groupby(\"municipality_id\")[\"age\"].sum().reset_index()\n",
    "df_age = pd.merge(df_age, df_total, on = \"municipality_id\")\n",
    "df_age[\"age\"] = df_age[\"age\"] / df_age[\"total\"]\n",
    "df_age = pd.merge(df_municipalities, df_age)\n",
    "\n",
    "plt.figure(dpi = 300)\n",
    "ax = df_age.plot(\"age\", legend = True, legend_kwds = { \"label\": \"Mean age\", \"orientation\": \"vertical\" }, ax = plt.gca())\n",
    "ax.set_axis_off()\n",
    "\n",
    "plt.savefig(\"{}/municipalities_mean_age.png\".format(output_path))"
   ]
  }
 ],
 "metadata": {
  "kernelspec": {
   "display_name": "maia",
   "language": "python",
   "name": "python3"
  },
  "language_info": {
   "codemirror_mode": {
    "name": "ipython",
    "version": 3
   },
   "file_extension": ".py",
   "mimetype": "text/x-python",
   "name": "python",
   "nbconvert_exporter": "python",
   "pygments_lexer": "ipython3",
   "version": "3.12.0"
  }
 },
 "nbformat": 4,
 "nbformat_minor": 2
}
