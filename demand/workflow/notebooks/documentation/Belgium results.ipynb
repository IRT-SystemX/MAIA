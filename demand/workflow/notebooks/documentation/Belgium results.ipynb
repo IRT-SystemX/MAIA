{
 "cells": [
  {
   "cell_type": "code",
   "execution_count": null,
   "metadata": {},
   "outputs": [],
   "source": [
    "import pandas as pd\n",
    "import geopandas as gpd\n",
    "import plotly.express as px\n",
    "import matplotlib.pyplot as plt\n",
    "import numpy as np\n",
    "import shapely.geometry as sgeo"
   ]
  },
  {
   "cell_type": "markdown",
   "metadata": {},
   "source": [
    "## Population"
   ]
  },
  {
   "cell_type": "code",
   "execution_count": null,
   "metadata": {},
   "outputs": [],
   "source": [
    "daily_totals_path = \"../../../results/belgium/airport/daily_totals.parquet\"\n",
    "sectors_path = \"../../../results/belgium/census/sectors.parquet\"\n",
    "municipalities_path = \"../../../results/belgium/census/municipalities.parquet\"\n",
    "survey_path = \"../../../results/belgium/airport/survey.parquet\"\n",
    "spatial_path = \"../../../results/belgium/census/spatial.parquet\"\n",
    "departure_hours_path = \"../../../results/belgium/airport/departure_hours.parquet\"\n",
    "group_sizes_path = \"../../../results/belgium/airport/group_sizes.parquet\"\n",
    "passenger_profiles_path = \"../../../results/belgium/airport/passenger_profiles.parquet\"\n",
    "\n",
    "output_path = \"/home/shoerl/temp/maia\""
   ]
  },
  {
   "cell_type": "code",
   "execution_count": null,
   "metadata": {},
   "outputs": [],
   "source": [
    "df_sector_reference = pd.read_parquet(sectors_path)[[\"sector_index\", \"weight\"]].rename(columns = {\n",
    "    \"weight\": \"reference\"\n",
    "})\n",
    "\n",
    "df_municipality_reference = pd.read_parquet(municipalities_path).rename(columns = {\n",
    "    \"weight\": \"reference\"\n",
    "}).groupby([\"municipality_id\", \"age_class\", \"sex\"])[\"reference\"].sum().reset_index()"
   ]
  },
  {
   "cell_type": "markdown",
   "metadata": {},
   "source": [
    "### Sector counts"
   ]
  },
  {
   "cell_type": "code",
   "execution_count": null,
   "metadata": {},
   "outputs": [],
   "source": [
    "df_sample = []\n",
    "\n",
    "for seed in np.arange(10) * 1000:\n",
    "    df_partial = pd.read_parquet(\"../../../results/belgium/population/discretized_population_seed{}.parquet\".format(seed))\n",
    "    df_partial = df_partial.groupby(\"sector_index\").size().reset_index(name = \"model\")\n",
    "    df_partial[\"seed\"] = seed\n",
    "    df_sample.append(df_partial)\n",
    "\n",
    "df_sample = pd.concat(df_sample)\n",
    "\n",
    "df_sample = df_sample.groupby(\"sector_index\")[\"model\"].aggregate([\"mean\", \"min\", \"max\"])\n",
    "df_sample[\"min\"] = df_sample[\"mean\"] - df_sample[\"min\"]\n",
    "df_sample[\"max\"] = df_sample[\"max\"] - df_sample[\"mean\"]\n",
    "df_sample[\"model\"] = df_sample[\"mean\"]"
   ]
  },
  {
   "cell_type": "code",
   "execution_count": null,
   "metadata": {},
   "outputs": [],
   "source": [
    "df_comparison = pd.merge(df_sample, df_sector_reference, on = \"sector_index\")\n",
    "figure = px.scatter(df_comparison, x = \"reference\", y = \"model\", error_y = \"max\", error_y_minus = \"min\")\n",
    "\n",
    "with open(\"{}/validation_sectors.png\".format(output_path), \"wb\") as f:\n",
    "    f.write(figure.to_image(\"png\", width = 600, height = 400, scale = 4))\n",
    "\n",
    "figure.show()"
   ]
  },
  {
   "cell_type": "markdown",
   "metadata": {},
   "source": [
    "### Municipalities"
   ]
  },
  {
   "cell_type": "code",
   "execution_count": null,
   "metadata": {},
   "outputs": [],
   "source": [
    "df_sample = []\n",
    "\n",
    "for seed in np.arange(10) * 1000:\n",
    "    df_partial = pd.read_parquet(\"../../../results/belgium/population/discretized_population_seed{}.parquet\".format(seed))\n",
    "    df_partial = df_partial.groupby([\"municipality_id\", \"age_class\", \"sex\"]).size().reset_index(name = \"model\")\n",
    "    df_partial[\"seed\"] = seed\n",
    "    df_sample.append(df_partial)\n",
    "\n",
    "df_sample = pd.concat(df_sample)"
   ]
  },
  {
   "cell_type": "code",
   "execution_count": null,
   "metadata": {},
   "outputs": [],
   "source": [
    "df_comparison = df_sample.groupby([\"municipality_id\", \"sex\", \"age_class\"])[\"model\"].aggregate([\"mean\", \"min\", \"max\"]).reset_index()\n",
    "df_comparison[\"min\"] = df_comparison[\"mean\"] - df_comparison[\"min\"]\n",
    "df_comparison[\"max\"] = df_comparison[\"max\"] - df_comparison[\"mean\"]\n",
    "df_comparison[\"model\"] = df_comparison[\"mean\"]\n",
    "df_comparison = pd.merge(df_comparison, df_municipality_reference[[\"municipality_id\", \"sex\", \"age_class\", \"reference\"]], on = [\"municipality_id\", \"age_class\", \"sex\"])"
   ]
  },
  {
   "cell_type": "code",
   "execution_count": null,
   "metadata": {},
   "outputs": [],
   "source": [
    "figure = px.scatter(df_comparison, x = \"reference\", y = \"model\", error_y = \"max\", error_y_minus = \"min\")\n",
    "\n",
    "with open(\"{}/validation_municipalities.png\".format(output_path), \"wb\") as f:\n",
    "    f.write(figure.to_image(\"png\", width = 600, height = 400, scale = 4))\n",
    "\n",
    "figure.show()"
   ]
  },
  {
   "cell_type": "markdown",
   "metadata": {},
   "source": [
    "### "
   ]
  },
  {
   "cell_type": "markdown",
   "metadata": {},
   "source": [
    "## Passengers"
   ]
  },
  {
   "cell_type": "code",
   "execution_count": null,
   "metadata": {},
   "outputs": [],
   "source": [
    "df_survey = pd.read_parquet(survey_path)\n",
    "df_survey = df_survey.rename(columns = { \"probability\": \"reference\" })\n",
    "df_survey = df_survey[[\"municipality_id\", \"sex\", \"age_class\", \"reference\"]]\n",
    "\n",
    "df_total = pd.read_parquet(daily_totals_path)\n",
    "passenger_scale = df_total[\"passengers\"].max() / 1.72\n",
    "\n",
    "df_survey[\"reference\"] *= passenger_scale"
   ]
  },
  {
   "cell_type": "code",
   "execution_count": null,
   "metadata": {},
   "outputs": [],
   "source": [
    "df_sample = []\n",
    "\n",
    "for seed in np.arange(10) * 1000:\n",
    "    df_partial = pd.read_parquet(\"../../../results/belgium/population/discretized_passengers_seed{}.parquet\".format(seed))\n",
    "    df_partial = df_partial.groupby([\"municipality_id\", \"age_class\", \"sex\"]).size().reset_index(name = \"model\")\n",
    "    df_partial[\"seed\"] = seed\n",
    "    df_partial[\"model\"] = df_partial[\"model\"] / df_partial[\"model\"].sum()\n",
    "    df_partial[\"model\"] *= passenger_scale\n",
    "    df_sample.append(df_partial)\n",
    "\n",
    "df_sample = pd.concat(df_sample)"
   ]
  },
  {
   "cell_type": "code",
   "execution_count": null,
   "metadata": {},
   "outputs": [],
   "source": [
    "df_comparison = df_sample.groupby([\"municipality_id\", \"sex\", \"age_class\"])[\"model\"].aggregate([\"mean\", \"min\", \"max\"]).reset_index()\n",
    "df_comparison[\"min\"] = df_comparison[\"mean\"] - df_comparison[\"min\"]\n",
    "df_comparison[\"max\"] = df_comparison[\"max\"] - df_comparison[\"mean\"]\n",
    "df_comparison[\"model\"] = df_comparison[\"mean\"]\n",
    "df_comparison = pd.merge(df_comparison, df_survey[[\"municipality_id\", \"sex\", \"age_class\", \"reference\"]], on = [\"municipality_id\", \"age_class\", \"sex\"])"
   ]
  },
  {
   "cell_type": "code",
   "execution_count": null,
   "metadata": {},
   "outputs": [],
   "source": [
    "figure = px.scatter(df_comparison, x = \"reference\", y = \"model\", error_y = \"max\", error_y_minus = \"min\")\n",
    "\n",
    "with open(\"{}/validation_survey.png\".format(output_path), \"wb\") as f:\n",
    "    f.write(figure.to_image(\"png\", width = 600, height = 400, scale = 4))\n",
    "\n",
    "figure.show()"
   ]
  },
  {
   "cell_type": "code",
   "execution_count": null,
   "metadata": {},
   "outputs": [],
   "source": [
    "df_comparison[\"difference\"] = df_comparison[\"model\"] - df_comparison[\"reference\"]\n",
    "df_comparison[\"difference_max\"] = df_comparison[\"model\"] + df_comparison[\"max\"] - df_comparison[\"reference\"]\n",
    "df_comparison[\"difference_min\"] = df_comparison[\"model\"] - df_comparison[\"min\"] - df_comparison[\"reference\"]"
   ]
  },
  {
   "cell_type": "code",
   "execution_count": null,
   "metadata": {},
   "outputs": [],
   "source": [
    "figure = px.ecdf(df_comparison, x = [\"difference\", \"difference_max\", \"difference_min\"])\n",
    "\n",
    "with open(\"{}/validation_errors_cdf.png\".format(output_path), \"wb\") as f:\n",
    "    f.write(figure.to_image(\"png\", width = 600, height = 400, scale = 4))\n",
    "\n",
    "figure.show()"
   ]
  },
  {
   "cell_type": "code",
   "execution_count": null,
   "metadata": {},
   "outputs": [],
   "source": [
    "df_municipalities = gpd.read_parquet(spatial_path)\n",
    "df_municipalities = df_municipalities.dissolve(\"municipality_id\").reset_index()"
   ]
  },
  {
   "cell_type": "code",
   "execution_count": null,
   "metadata": {},
   "outputs": [],
   "source": [
    "df_origins = df_sample.groupby([\"municipality_id\", \"seed\"])[\"model\"].sum().reset_index()\n",
    "df_origins = df_origins.groupby(\"municipality_id\")[\"model\"].mean().reset_index()"
   ]
  },
  {
   "cell_type": "code",
   "execution_count": null,
   "metadata": {},
   "outputs": [],
   "source": [
    "df_plot = pd.merge(\n",
    "    df_municipalities, \n",
    "    df_origins,\n",
    "    on = \"municipality_id\")\n",
    "\n",
    "plt.figure(dpi = 300)\n",
    "ax = df_plot.plot(\"model\", legend = True, vmax = 1000, legend_kwds = { \"label\": \"Daily passengers\", \"orientation\": \"vertical\" }, ax = plt.gca())\n",
    "ax.set_axis_off()"
   ]
  },
  {
   "cell_type": "markdown",
   "metadata": {},
   "source": [
    "### Departure times"
   ]
  },
  {
   "cell_type": "code",
   "execution_count": null,
   "metadata": {},
   "outputs": [],
   "source": [
    "df_departure_hours = pd.read_parquet(departure_hours_path)\n",
    "df_departure_hours = df_departure_hours.set_index([\"passenger_profile\", \"departure_hour\"])\n",
    "df_departure_hours = df_departure_hours.reindex(pd.MultiIndex.from_product([[\n",
    "    \"business\", \"economy\"\n",
    "], list(range(24))], names = [\"passenger_profile\", \"departure_hour\"])).reset_index() # .fillna(0.0)"
   ]
  },
  {
   "cell_type": "code",
   "execution_count": null,
   "metadata": {},
   "outputs": [],
   "source": [
    "df_sample = []\n",
    "\n",
    "for seed in np.arange(10) * 1000:\n",
    "    df_partial = gpd.read_file(\"../../../results/belgium/trips/passenger_trips_seed{}.gpkg\".format(seed))\n",
    "    \n",
    "    df_partial = df_partial[[\"passenger_profile\", \"reference_time\", \"group_size\"]]\n",
    "    df_partial[\"seed\"] = seed\n",
    "    df_sample.append(df_partial)\n",
    "\n",
    "df_sample = pd.concat(df_sample)"
   ]
  },
  {
   "cell_type": "code",
   "execution_count": null,
   "metadata": {},
   "outputs": [],
   "source": [
    "df_passenger_profiles = pd.read_parquet(passenger_profiles_path)\n",
    "df_passenger_profiles"
   ]
  },
  {
   "cell_type": "code",
   "execution_count": null,
   "metadata": {},
   "outputs": [],
   "source": [
    "df_comparison = df_sample.groupby([\"passenger_profile\", \"seed\"]).size().reset_index(name = \"model\")\n",
    "df_total = df_comparison.groupby(\"seed\")[\"model\"].sum().reset_index(name = \"total\")\n",
    "df_comparison = pd.merge(df_comparison, df_total, on = \"seed\")\n",
    "df_comparison[\"model\"] = df_comparison[\"model\"] / df_comparison[\"total\"]\n",
    "df_comparison = df_comparison.groupby(\"passenger_profile\")[\"model\"].aggregate([\"min\", \"max\", \"mean\"]).reset_index()\n",
    "df_comparison"
   ]
  },
  {
   "cell_type": "code",
   "execution_count": null,
   "metadata": {},
   "outputs": [],
   "source": [
    "df_comparison = df_sample.copy()\n",
    "df_comparison[\"departure_hour\"] = df_comparison[\"reference_time\"] // 3600\n",
    "df_comparison = df_comparison.groupby([\"departure_hour\", \"passenger_profile\", \"seed\"]).size().reset_index(name = \"model\")\n",
    "df_comparison = df_comparison.groupby([\"departure_hour\", \"passenger_profile\"])[\"model\"].aggregate([\"min\", \"max\", \"mean\"]).reset_index()\n",
    "\n",
    "df_comparison[\"min\"] = df_comparison[\"mean\"] - df_comparison[\"min\"]\n",
    "df_comparison[\"max\"] = df_comparison[\"max\"] - df_comparison[\"mean\"]\n",
    "df_comparison[\"model\"] = df_comparison[\"mean\"]\n",
    "\n",
    "df_comparison = df_comparison.set_index([\"passenger_profile\", \"departure_hour\"])\n",
    "df_comparison = df_comparison.reindex(pd.MultiIndex.from_product([[\n",
    "    \"business\", \"economy\"\n",
    "], list(range(24))], names = [\"passenger_profile\", \"departure_hour\"])).reset_index()"
   ]
  },
  {
   "cell_type": "code",
   "execution_count": null,
   "metadata": {},
   "outputs": [],
   "source": [
    "px.line(\n",
    "    df_comparison, \n",
    "    x = \"departure_hour\", \n",
    "    y = \"model\", error_y = \"max\", error_y_minus = \"min\",\n",
    "    color = \"passenger_profile\"\n",
    ")"
   ]
  },
  {
   "cell_type": "code",
   "execution_count": null,
   "metadata": {},
   "outputs": [],
   "source": [
    "df_comparison = df_sample.copy()\n",
    "df_comparison[\"departure_hour\"] = df_comparison[\"reference_time\"] // 3600\n",
    "df_comparison = df_comparison.groupby([\"departure_hour\", \"passenger_profile\", \"seed\"]).size().reset_index(name = \"weight\")\n",
    "\n",
    "df_total = df_comparison.groupby([\"passenger_profile\", \"seed\"])[\"weight\"].sum().reset_index(name = \"total\")\n",
    "df_comparison = pd.merge(df_comparison, df_total, on = [\"passenger_profile\", \"seed\"])\n",
    "df_comparison[\"weight\"] = df_comparison[\"weight\"] / df_comparison[\"total\"]\n",
    "\n",
    "df_comparison = df_comparison.groupby([\"departure_hour\", \"passenger_profile\"])[\"weight\"].aggregate([\"min\", \"max\", \"mean\"]).reset_index()\n",
    "\n",
    "df_comparison[\"min\"] = df_comparison[\"mean\"] - df_comparison[\"min\"]\n",
    "df_comparison[\"max\"] = df_comparison[\"max\"] - df_comparison[\"mean\"]\n",
    "df_comparison[\"weight\"] = df_comparison[\"mean\"]\n",
    "\n",
    "df_comparison = df_comparison.set_index([\"passenger_profile\", \"departure_hour\"])\n",
    "df_comparison = df_comparison.reindex(pd.MultiIndex.from_product([[\n",
    "    \"business\", \"economy\"\n",
    "], list(range(24))], names = [\"passenger_profile\", \"departure_hour\"])).reset_index()\n",
    "\n",
    "df_comparison[\"slot\"] = \"model\""
   ]
  },
  {
   "cell_type": "code",
   "execution_count": null,
   "metadata": {},
   "outputs": [],
   "source": [
    "df_reference = df_departure_hours.copy()\n",
    "df_reference[\"min\"] = 0.0\n",
    "df_reference[\"max\"] = 0.0\n",
    "df_reference[\"slot\"] = \"reference\""
   ]
  },
  {
   "cell_type": "code",
   "execution_count": null,
   "metadata": {},
   "outputs": [],
   "source": [
    "figure = px.line(\n",
    "    pd.concat([df_comparison, df_reference]), \n",
    "    x = \"departure_hour\", \n",
    "    y = \"weight\", error_y = \"max\", error_y_minus = \"min\",\n",
    "    color = \"passenger_profile\", line_dash = \"slot\"\n",
    ")\n",
    "\n",
    "with open(\"{}/validation_departure_times.png\".format(output_path), \"wb\") as f:\n",
    "    f.write(figure.to_image(\"png\", width = 600, height = 400, scale = 4))\n",
    "\n",
    "figure.show()"
   ]
  },
  {
   "cell_type": "code",
   "execution_count": null,
   "metadata": {},
   "outputs": [],
   "source": [
    "df_reference = pd.read_parquet(group_sizes_path)\n",
    "df_reference[\"slot\"] = \"reference\""
   ]
  },
  {
   "cell_type": "code",
   "execution_count": null,
   "metadata": {},
   "outputs": [],
   "source": [
    "df_comparison = df_sample.copy()\n",
    "df_comparison = df_comparison.groupby([\"group_size\", \"seed\"]).size().reset_index(name = \"weight\")\n",
    "\n",
    "df_total = df_comparison.groupby(\"seed\")[\"weight\"].sum().reset_index(name = \"total\")\n",
    "df_comparison = pd.merge(df_comparison, df_total, on = \"seed\")\n",
    "df_comparison[\"weight\"] = df_comparison[\"weight\"] / df_comparison[\"total\"]\n",
    "\n",
    "df_comparison = df_comparison.groupby([\"group_size\"])[\"weight\"].aggregate([\"min\", \"max\", \"mean\"]).reset_index()\n",
    "\n",
    "df_comparison[\"min\"] = df_comparison[\"mean\"] - df_comparison[\"min\"]\n",
    "df_comparison[\"max\"] = df_comparison[\"max\"] - df_comparison[\"mean\"]\n",
    "df_comparison[\"weight\"] = df_comparison[\"mean\"]\n",
    "\n",
    "df_comparison[\"slot\"] = \"model\""
   ]
  },
  {
   "cell_type": "code",
   "execution_count": null,
   "metadata": {},
   "outputs": [],
   "source": [
    "figure = px.bar(pd.concat([df_comparison, df_reference]),\n",
    "    x = \"group_size\", y = \"weight\", barmode = \"group\", color = \"slot\",\n",
    "    error_y=\"max\", error_y_minus=\"min\")\n",
    "\n",
    "with open(\"{}/validation_group_size.png\".format(output_path), \"wb\") as f:\n",
    "    f.write(figure.to_image(\"png\", width = 600, height = 400, scale = 4))\n",
    "\n",
    "figure.show()"
   ]
  },
  {
   "cell_type": "code",
   "execution_count": null,
   "metadata": {},
   "outputs": [],
   "source": [
    "df_trips = gpd.read_file(\"../../../results/belgium/trips/passenger_trips_seed0.gpkg\")"
   ]
  },
  {
   "cell_type": "code",
   "execution_count": null,
   "metadata": {},
   "outputs": [],
   "source": [
    "df_sample = df_trips.sample(10000, replace = False)\n",
    "df_sample[\"geometry\"] = df_sample[\"geometry\"].apply(lambda x: sgeo.Point(*x.coords[0]))\n",
    "df_sample.to_file(\"/home/shoerl/temp/maia/trips.gpkg\")"
   ]
  },
  {
   "cell_type": "code",
   "execution_count": null,
   "metadata": {},
   "outputs": [],
   "source": [
    "# Map of some city with the trip origins / destinations\n",
    "# Map of the trips with transparency overlay"
   ]
  }
 ],
 "metadata": {
  "kernelspec": {
   "display_name": "maia",
   "language": "python",
   "name": "python3"
  },
  "language_info": {
   "codemirror_mode": {
    "name": "ipython",
    "version": 3
   },
   "file_extension": ".py",
   "mimetype": "text/x-python",
   "name": "python",
   "nbconvert_exporter": "python",
   "pygments_lexer": "ipython3",
   "version": "3.12.0"
  }
 },
 "nbformat": 4,
 "nbformat_minor": 2
}
