{
 "cells": [
  {
   "cell_type": "code",
   "execution_count": null,
   "metadata": {},
   "outputs": [],
   "source": [
    "import geopandas as gpd\n",
    "import pandas as pd\n",
    "import numpy as np\n",
    "import plotly.express as px"
   ]
  },
  {
   "cell_type": "code",
   "execution_count": null,
   "metadata": {},
   "outputs": [],
   "source": [
    "if \"snakemake\" in locals():\n",
    "    input_population_path = snakemake.input[\"population\"]\n",
    "    input_spatial_path = snakemake.input[\"spatial\"]\n",
    "    output_path = snakemake.output[0]\n",
    "    seed = snakemake.params[\"seed\"]\n",
    "    only_passengers = snakemake.params[\"only_passengers\"]\n",
    "    \n",
    "else:\n",
    "    input_population_path = \"../../../results/belgium/population/weighted_population.parquet\"\n",
    "    input_spatial_path = \"../../../results/belgium/census/spatial.parquet\"\n",
    "    \n",
    "    output_path = \"../../../results/belgium/population/discretized_population.parquet\"\n",
    "\n",
    "    seed = 0\n",
    "    only_passengers = True"
   ]
  },
  {
   "cell_type": "code",
   "execution_count": null,
   "metadata": {},
   "outputs": [],
   "source": [
    "# Initialize random numbers\n",
    "random = np.random.RandomState(seed)"
   ]
  },
  {
   "cell_type": "code",
   "execution_count": null,
   "metadata": {},
   "outputs": [],
   "source": [
    "# Load generated population data\n",
    "df_population = pd.read_parquet(input_population_path)"
   ]
  },
  {
   "cell_type": "code",
   "execution_count": null,
   "metadata": {},
   "outputs": [],
   "source": [
    "# Load spatial data\n",
    "df_spatial = gpd.read_parquet(input_spatial_path)"
   ]
  },
  {
   "cell_type": "code",
   "execution_count": null,
   "metadata": {},
   "outputs": [],
   "source": [
    "# Calculate individuals\n",
    "f = df_population[\"weight\"] > 0.0\n",
    "\n",
    "if only_passengers:\n",
    "    f &= df_population[\"is_passenger\"]\n",
    "\n",
    "df_population = df_population[f].copy()\n",
    "\n",
    "individuals = np.floor(df_population[\"weight\"])\n",
    "\n",
    "residuals = df_population[\"weight\"] - individuals\n",
    "sample = random.random_sample(len(df_population))\n",
    "individuals += sample < residuals"
   ]
  },
  {
   "cell_type": "code",
   "execution_count": null,
   "metadata": {},
   "outputs": [],
   "source": [
    "# Generate individuals\n",
    "multiplicator = np.repeat(\n",
    "    np.arange(len(df_population)), individuals.astype(int))\n",
    "\n",
    "df_population = df_population.iloc[multiplicator]\n",
    "df_population = df_population.drop(columns = [\"weight\"])"
   ]
  },
  {
   "cell_type": "code",
   "execution_count": null,
   "metadata": {},
   "outputs": [],
   "source": [
    "df_plot = df_population.groupby(\"sex\").size().reset_index(name = \"passengers\")\n",
    "df_plot[\"sex\"] = df_plot[\"sex\"].replace({ 1: \"M\", 2: \"F\" })\n",
    "px.bar(\n",
    "    df_plot, x = \"sex\", y = \"passengers\",\n",
    "    title = \"Generated passengers by sex\"\n",
    ")"
   ]
  },
  {
   "cell_type": "code",
   "execution_count": null,
   "metadata": {},
   "outputs": [],
   "source": [
    "df_plot = df_population.groupby(\"age_class\").size().reset_index(name = \"passengers\")\n",
    "df_plot[\"age_class\"] = df_plot[\"age_class\"].astype(str)\n",
    "px.bar(\n",
    "    df_plot, x = \"age_class\", y = \"passengers\",\n",
    "    title = \"Generated passengers by age\"\n",
    ")"
   ]
  },
  {
   "cell_type": "code",
   "execution_count": null,
   "metadata": {},
   "outputs": [],
   "source": [
    "# Output\n",
    "df_population.to_parquet(output_path)"
   ]
  }
 ],
 "metadata": {
  "kernelspec": {
   "display_name": "disco",
   "language": "python",
   "name": "python3"
  },
  "language_info": {
   "codemirror_mode": {
    "name": "ipython",
    "version": 3
   },
   "file_extension": ".py",
   "mimetype": "text/x-python",
   "name": "python",
   "nbconvert_exporter": "python",
   "pygments_lexer": "ipython3",
   "version": "3.12.0"
  }
 },
 "nbformat": 4,
 "nbformat_minor": 2
}
