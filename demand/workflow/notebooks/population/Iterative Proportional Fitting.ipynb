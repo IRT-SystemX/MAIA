{
 "cells": [
  {
   "cell_type": "code",
   "execution_count": null,
   "metadata": {},
   "outputs": [],
   "source": [
    "import numpy as np\n",
    "import pandas as pd\n",
    "from tqdm.notebook import tqdm\n",
    "import plotly.express as px"
   ]
  },
  {
   "cell_type": "code",
   "execution_count": null,
   "metadata": {},
   "outputs": [],
   "source": [
    "if \"snakemake\" in locals():\n",
    "    input_seed_path = snakemake.input[\"seed\"]\n",
    "    output_table_path = snakemake.output[0]\n",
    "\n",
    "    marginal_paths = []\n",
    "\n",
    "    for key in snakemake.input.keys():\n",
    "        if key.startswith(\"marginal\"):\n",
    "            marginal_paths.append(snakemake.input[key])\n",
    "\n",
    "else:            \n",
    "    input_seed_path = \"../../../results/belgium/demand/initial_population.parquet\"\n",
    "    output_table_path = \"../../../results/belgium/demand/weighted_population.parquet\"\n",
    "\n",
    "    marginal_paths = [\n",
    "        \"../../../results/belgium/marginals/municipalities.parquet\",\n",
    "        \"../../../results/belgium/marginals/sectors.parquet\",\n",
    "        \"../../../results/belgium/marginals/passengers.parquet\",\n",
    "        \"../../../results/belgium/marginals/missing_locations.parquet\"\n",
    "    ]"
   ]
  },
  {
   "cell_type": "code",
   "execution_count": null,
   "metadata": {},
   "outputs": [],
   "source": [
    "# Load population sample\n",
    "df_population = pd.read_parquet(input_seed_path)"
   ]
  },
  {
   "cell_type": "code",
   "execution_count": null,
   "metadata": {},
   "outputs": [],
   "source": [
    "# For performance, per-calculate the selectors and totals for the weighting process\n",
    "constraints = []\n",
    "\n",
    "for path in marginal_paths:\n",
    "    df_marginal = pd.read_parquet(path)\n",
    "    print(df_marginal)\n",
    "\n",
    "    assert len(set(df_marginal.columns) - set(df_population.columns)) == 0\n",
    "    attributes = list((set(df_marginal.columns) & set(df_population.columns)) - set([\"weight\"]))\n",
    "\n",
    "    for values in tqdm(df_marginal[attributes + [\"weight\"]].itertuples(index = False), total = len(df_marginal)):\n",
    "        population_selector = np.logical_and.reduce([np.ones((len(df_population),), dtype = bool)] + [\n",
    "            df_population[attribute] == value for attribute, value in zip(attributes, values)\n",
    "        ])\n",
    "\n",
    "        assert np.count_nonzero(population_selector) > 0\n",
    "        constraints.append((np.where(population_selector)[0], values[-1]))"
   ]
  },
  {
   "cell_type": "code",
   "execution_count": null,
   "metadata": {},
   "outputs": [],
   "source": [
    "weight_column = df_population.columns.get_loc(\"weight\")\n",
    "\n",
    "overall_factors = []\n",
    "\n",
    "converged = False\n",
    "for iteration in range(1000):\n",
    "    print(\"Iteration\", iteration + 1)\n",
    "    iteration_factors = []\n",
    "\n",
    "    for selector, target_value in tqdm(constraints):\n",
    "        current_value = df_population.iloc[selector, weight_column].sum()\n",
    "\n",
    "        if current_value > 0:\n",
    "            factor = target_value / current_value\n",
    "\n",
    "            df_population.iloc[selector, weight_column] *= factor\n",
    "            iteration_factors.append(factor)\n",
    "\n",
    "    print(\"Factors:\", len(iteration_factors), \n",
    "        \"mean:\", np.mean(iteration_factors), \n",
    "        \"min:\", np.min(iteration_factors),\n",
    "        \"max:\", np.max(iteration_factors))\n",
    "    \n",
    "    iteration_factors = np.array(iteration_factors)\n",
    "    overall_factors.append(iteration_factors)\n",
    "\n",
    "    if np.max(iteration_factors) - 1 < 1e-2:\n",
    "        if np.min(iteration_factors) > 1 - 1e-2:\n",
    "            converged = True\n",
    "            break\n",
    "\n",
    "assert converged"
   ]
  },
  {
   "cell_type": "code",
   "execution_count": null,
   "metadata": {},
   "outputs": [],
   "source": [
    "df_progress = pd.DataFrame({\n",
    "    \"iteration\": np.arange(len(overall_factors)),\n",
    "    \"mean\": [np.mean(v) for v in overall_factors],\n",
    "    \"min\": [np.min(v) for v in overall_factors],\n",
    "    \"max\": [np.max(v) for v in overall_factors]\n",
    "})\n",
    "\n",
    "figure = px.line(df_progress, x = \"iteration\", y = [\"mean\", \"min\", \"max\"])\n",
    "figure.update_layout(yaxis = dict(range = [0.5, 1.5]))"
   ]
  },
  {
   "cell_type": "code",
   "execution_count": null,
   "metadata": {},
   "outputs": [],
   "source": [
    "# Output\n",
    "df_population.to_parquet(output_table_path)\n",
    "df_progress.to_parquet(output_table_path.replace(\".parquet\", \".progress.parquet\"))"
   ]
  }
 ],
 "metadata": {
  "kernelspec": {
   "display_name": "disco",
   "language": "python",
   "name": "python3"
  },
  "language_info": {
   "codemirror_mode": {
    "name": "ipython",
    "version": 3
   },
   "file_extension": ".py",
   "mimetype": "text/x-python",
   "name": "python",
   "nbconvert_exporter": "python",
   "pygments_lexer": "ipython3",
   "version": "3.12.0"
  }
 },
 "nbformat": 4,
 "nbformat_minor": 2
}
