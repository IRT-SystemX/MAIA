{
 "cells": [
  {
   "cell_type": "code",
   "execution_count": null,
   "metadata": {},
   "outputs": [],
   "source": [
    "import pandas as pd\n",
    "import geopandas as gpd\n",
    "import numpy as np\n",
    "\n",
    "from tqdm.notebook import tqdm"
   ]
  },
  {
   "cell_type": "code",
   "execution_count": null,
   "metadata": {},
   "outputs": [],
   "source": [
    "if \"snakemake\" in locals():\n",
    "    input_passegers_path = snakemake.input[\"passengers\"]\n",
    "    input_locations_path = snakemake.input[\"locations\"]\n",
    "    output_path = snakemake.output[0]\n",
    "    zone_attribute = snakemake.params[\"zone_attribute\"]\n",
    "    seed = snakemake.params[\"seed\"]\n",
    "    \n",
    "else:\n",
    "    input_passegers_path = \"../../../results/madrid/population/discretized_passengers.parquet\"\n",
    "    input_locations_path = \"../../../results/madrid/osm/locations.parquet\"\n",
    "    output_path = \"../../../results/madrid/population/localized_population.parquet\"\n",
    "    zone_attribute = \"municipality_id\"\n",
    "    seed = 0"
   ]
  },
  {
   "cell_type": "code",
   "execution_count": null,
   "metadata": {},
   "outputs": [],
   "source": [
    "# Load passenger data\n",
    "df_passengers = pd.read_parquet(input_passegers_path)\n",
    "\n",
    "# Load location data\n",
    "df_locations = gpd.read_parquet(input_locations_path)"
   ]
  },
  {
   "cell_type": "code",
   "execution_count": null,
   "metadata": {},
   "outputs": [],
   "source": [
    "# Convert sectors to indices\n",
    "df_sectors = df_passengers.groupby(zone_attribute).size().reset_index(name = \"count\")\n",
    "\n",
    "df_locations.set_index(zone_attribute, inplace = True)\n",
    "df_locations.sort_index(inplace = True)\n",
    "\n",
    "df_passengers.set_index(zone_attribute, inplace = True)\n",
    "df_passengers.sort_index(inplace = True)"
   ]
  },
  {
   "cell_type": "code",
   "execution_count": null,
   "metadata": {},
   "outputs": [],
   "source": [
    "# Generate locations\n",
    "for zone_index, count in tqdm(zip(df_sectors[zone_attribute], df_sectors[\"count\"]), total = len(df_sectors)):\n",
    "    df_source = df_locations.loc[[zone_index]]\n",
    "    assert len(df_source) > 0\n",
    "\n",
    "    df_sample = df_source.sample(n = count, replace = True)\n",
    "    geometry = df_sample[\"geometry\"].values\n",
    "\n",
    "    if len(geometry) == 1:\n",
    "        geometry = geometry[0]\n",
    "\n",
    "    df_passengers.loc[zone_index, \"geometry\"] = geometry"
   ]
  },
  {
   "cell_type": "code",
   "execution_count": null,
   "metadata": {},
   "outputs": [],
   "source": [
    "df_passengers = gpd.GeoDataFrame(df_passengers.reset_index(), crs = df_locations.crs)"
   ]
  },
  {
   "cell_type": "code",
   "execution_count": null,
   "metadata": {},
   "outputs": [],
   "source": [
    "# Output\n",
    "df_passengers.to_parquet(output_path)"
   ]
  }
 ],
 "metadata": {
  "kernelspec": {
   "display_name": "disco",
   "language": "python",
   "name": "python3"
  },
  "language_info": {
   "codemirror_mode": {
    "name": "ipython",
    "version": 3
   },
   "file_extension": ".py",
   "mimetype": "text/x-python",
   "name": "python",
   "nbconvert_exporter": "python",
   "pygments_lexer": "ipython3",
   "version": "3.12.0"
  }
 },
 "nbformat": 4,
 "nbformat_minor": 2
}
