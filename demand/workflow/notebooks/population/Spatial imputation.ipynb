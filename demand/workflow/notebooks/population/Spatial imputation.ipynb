{
 "cells": [
  {
   "cell_type": "code",
   "execution_count": null,
   "metadata": {},
   "outputs": [],
   "source": [
    "import geopandas as gpd\n",
    "import pandas as pd\n",
    "import numpy as np"
   ]
  },
  {
   "cell_type": "code",
   "execution_count": null,
   "metadata": {},
   "outputs": [],
   "source": [
    "if \"snakemake\" in locals():\n",
    "    target_path = snakemake.input[\"target\"]\n",
    "    zones_path = snakemake.input[\"zones\"]\n",
    "    output_path = snakemake.output[0]\n",
    "    attributes = snakemake.params[\"attributes\"]\n",
    "    \n",
    "else:\n",
    "    target_path = \"../../../results/brussels/population/passengers_with_luggage_seed1000.parquet\"\n",
    "    zones_path = \"../../../results/brussels/post_codes.parquet\"\n",
    "    attributes = [\"postcode\"]\n",
    "    output_path = \"../../../results/brussels/population/passengers_with_postcode_seed1000.parquet\""
   ]
  },
  {
   "cell_type": "code",
   "execution_count": null,
   "metadata": {},
   "outputs": [],
   "source": [
    "# Load data\n",
    "df_target = gpd.read_parquet(target_path)\n",
    "df_zones = gpd.read_parquet(zones_path).to_crs(df_target.crs)"
   ]
  },
  {
   "cell_type": "code",
   "execution_count": null,
   "metadata": {},
   "outputs": [],
   "source": [
    "# Matching\n",
    "initial_size = len(df_target)\n",
    "df_target = gpd.sjoin(df_target, df_zones[attributes + [\"geometry\"]], predicate = \"within\")\n",
    "final_size = len(df_target)\n",
    "print(initial_size, final_size)"
   ]
  },
  {
   "cell_type": "code",
   "execution_count": null,
   "metadata": {},
   "outputs": [],
   "source": [
    "# Output\n",
    "df_target.to_parquet(output_path)"
   ]
  }
 ],
 "metadata": {
  "kernelspec": {
   "display_name": "maia",
   "language": "python",
   "name": "python3"
  },
  "language_info": {
   "codemirror_mode": {
    "name": "ipython",
    "version": 3
   },
   "file_extension": ".py",
   "mimetype": "text/x-python",
   "name": "python",
   "nbconvert_exporter": "python",
   "pygments_lexer": "ipython3",
   "version": "3.12.0"
  }
 },
 "nbformat": 4,
 "nbformat_minor": 2
}
