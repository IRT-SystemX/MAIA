{
 "cells": [
  {
   "cell_type": "code",
   "execution_count": 1,
   "metadata": {},
   "outputs": [],
   "source": [
    "import pandas as pd\n",
    "import geopandas as gpd"
   ]
  },
  {
   "cell_type": "code",
   "execution_count": 2,
   "metadata": {},
   "outputs": [],
   "source": [
    "if \"snakemake\" in locals():\n",
    "    input_paths = snakemake.input\n",
    "    output_path = snakemake.output[0]\n",
    "    attributes = snakemake.params[\"attributes\"]\n",
    "    \n",
    "else:\n",
    "    input_paths = [\n",
    "        \"../../../results/belgium/census/sectors.parquet\",\n",
    "        \"../../../results/belgium/census/municipalities.parquet\",\n",
    "    ]\n",
    "\n",
    "    output_path = \"../../../results/belgium/demand/initial_population.parquet\"\n",
    "\n",
    "    attributes = [\"municipality_id\", \"sector_index\", \"sex\", \"age_class\"]"
   ]
  },
  {
   "cell_type": "code",
   "execution_count": 3,
   "metadata": {},
   "outputs": [],
   "source": [
    "df_population = pd.DataFrame({ \"weight\": [1.0] })\n",
    "\n",
    "for path in input_paths:\n",
    "    df_marginal = pd.read_parquet(path)\n",
    "    df_marginal = df_marginal[list(set(df_marginal.columns) & set(attributes))]\n",
    "    df_marginal = df_marginal.drop_duplicates()\n",
    "    \n",
    "    overlap = set(df_marginal.columns) & set(df_population.columns)\n",
    "\n",
    "    if len(overlap) > 0:\n",
    "        # Inner join\n",
    "        df_population = pd.merge(df_population, df_marginal, on = list(overlap), how = \"inner\")\n",
    "    else:\n",
    "        # Cross join\n",
    "        df_population = pd.merge(df_population, df_marginal, how = \"cross\")"
   ]
  },
  {
   "cell_type": "code",
   "execution_count": 4,
   "metadata": {},
   "outputs": [],
   "source": [
    "# Add passenger yes/no\n",
    "df_population = pd.merge(df_population, pd.DataFrame({\n",
    "    \"is_passenger\": [True, False]\n",
    "}), how = \"cross\")"
   ]
  },
  {
   "cell_type": "code",
   "execution_count": 5,
   "metadata": {},
   "outputs": [],
   "source": [
    "# Output population table\n",
    "df_population.to_parquet(output_path)"
   ]
  }
 ],
 "metadata": {
  "kernelspec": {
   "display_name": "maia",
   "language": "python",
   "name": "python3"
  },
  "language_info": {
   "codemirror_mode": {
    "name": "ipython",
    "version": 3
   },
   "file_extension": ".py",
   "mimetype": "text/x-python",
   "name": "python",
   "nbconvert_exporter": "python",
   "pygments_lexer": "ipython3",
   "version": "3.12.0"
  }
 },
 "nbformat": 4,
 "nbformat_minor": 2
}
