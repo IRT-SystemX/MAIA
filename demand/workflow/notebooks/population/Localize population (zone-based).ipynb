{
 "cells": [
  {
   "cell_type": "code",
   "execution_count": null,
   "metadata": {},
   "outputs": [],
   "source": [
    "import pandas as pd\n",
    "import geopandas as gpd\n",
    "import numpy as np\n",
    "\n",
    "from tqdm.notebook import tqdm"
   ]
  },
  {
   "cell_type": "code",
   "execution_count": null,
   "metadata": {},
   "outputs": [],
   "source": [
    "if \"snakemake\" in locals():\n",
    "    input_passegers_path = snakemake.input[\"passengers\"]\n",
    "    input_spatial_path = snakemake.input[\"spatial\"]\n",
    "    output_path = snakemake.output[0]\n",
    "    zone_attribute = snakemake.params[\"zone_attribute\"]\n",
    "    seed = snakemake.params[\"seed\"]\n",
    "else:\n",
    "    input_passegers_path = \"../../../results/belgium/population/discretized_population.parquet\"\n",
    "    input_spatial_path = \"../../../results/belgium/census/spatial.parquet\"\n",
    "    output_path = \"../../../results/belgium/population/localized_population.parquet\"\n",
    "    zone_attribute = \"sector_index\"\n",
    "    seed = 0"
   ]
  },
  {
   "cell_type": "code",
   "execution_count": null,
   "metadata": {},
   "outputs": [],
   "source": [
    "# Load passenger data\n",
    "df_passengers = pd.read_parquet(input_passegers_path)\n",
    "\n",
    "# Load spatial data\n",
    "df_sectors = gpd.read_parquet(input_spatial_path)"
   ]
  },
  {
   "cell_type": "code",
   "execution_count": null,
   "metadata": {},
   "outputs": [],
   "source": [
    "# Generate locations for sectors\n",
    "df_locations = df_passengers.groupby(zone_attribute).size().reset_index(name = \"count\")\n",
    "df_locations = pd.merge(df_sectors, df_locations, on = zone_attribute, how = \"inner\")\n",
    "df_locations[\"geometry\"] = df_locations.sample_points(df_locations[\"count\"] + 1, rng = seed)"
   ]
  },
  {
   "cell_type": "code",
   "execution_count": null,
   "metadata": {},
   "outputs": [],
   "source": [
    "for item in df_locations[\"geometry\"].values:\n",
    "    assert str(type(item)) == \"<class 'shapely.geometry.multipoint.MultiPoint'>\"\n",
    "\n",
    "    v = np.array(item.geoms)\n",
    "    assert 1 == len(v.shape)\n",
    "\n",
    "    locations = np.array(item.geoms)\n",
    "    assert len(locations) == len(locations.flatten())"
   ]
  },
  {
   "cell_type": "code",
   "execution_count": null,
   "metadata": {},
   "outputs": [],
   "source": [
    "# Assign locations\n",
    "df_passengers = df_passengers.set_index(zone_attribute)\n",
    "\n",
    "for sector_id, locations in zip(tqdm(df_locations[zone_attribute].values), df_locations[\"geometry\"].values):\n",
    "    locations = np.array(locations.geoms)[1:]\n",
    "\n",
    "    if len(locations) == 1:\n",
    "        df_passengers.loc[sector_id, \"geometry\"] = locations[0]\n",
    "    else:\n",
    "        df_passengers.loc[sector_id, \"geometry\"] = list(locations)\n",
    "\n",
    "df_passengers = gpd.GeoDataFrame(df_passengers, crs = df_sectors.crs, geometry = \"geometry\")\n",
    "df_passengers = df_passengers.reset_index()"
   ]
  },
  {
   "cell_type": "code",
   "execution_count": null,
   "metadata": {},
   "outputs": [],
   "source": [
    "# Output\n",
    "df_passengers.to_parquet(output_path)"
   ]
  }
 ],
 "metadata": {
  "kernelspec": {
   "display_name": "disco",
   "language": "python",
   "name": "python3"
  },
  "language_info": {
   "codemirror_mode": {
    "name": "ipython",
    "version": 3
   },
   "file_extension": ".py",
   "mimetype": "text/x-python",
   "name": "python",
   "nbconvert_exporter": "python",
   "pygments_lexer": "ipython3",
   "version": "3.12.0"
  }
 },
 "nbformat": 4,
 "nbformat_minor": 2
}
