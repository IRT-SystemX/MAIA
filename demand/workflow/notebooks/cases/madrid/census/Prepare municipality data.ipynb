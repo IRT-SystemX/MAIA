{
 "cells": [
  {
   "cell_type": "code",
   "execution_count": null,
   "metadata": {},
   "outputs": [],
   "source": [
    "import pandas as pd\n",
    "import numpy as np\n",
    "import plotly.express as px"
   ]
  },
  {
   "cell_type": "code",
   "execution_count": null,
   "metadata": {},
   "outputs": [],
   "source": [
    "if \"snakemake\" in locals():\n",
    "    input_path = snakemake.input[0]\n",
    "    output_path = snakemake.output[0]\n",
    "else:\n",
    "    input_path = \"../../../../../resources/madrid/census/68542.csv\"\n",
    "    output_path = \"../../../../results/madrid/census/municipalities.parquet\""
   ]
  },
  {
   "cell_type": "code",
   "execution_count": null,
   "metadata": {},
   "outputs": [],
   "source": [
    "# Read input data\n",
    "df_census = pd.read_csv(input_path, sep = \"\\t\")"
   ]
  },
  {
   "cell_type": "code",
   "execution_count": null,
   "metadata": {},
   "outputs": [],
   "source": [
    "# Filter for 2023\n",
    "df_census = df_census[df_census[\"Periodo\"] == 2023].copy()"
   ]
  },
  {
   "cell_type": "code",
   "execution_count": null,
   "metadata": {},
   "outputs": [],
   "source": [
    "# Filter out aggregated rows\n",
    "df_census = df_census[\n",
    "    df_census[\"Sexo\"].isin([\"Mujeres\", \"Hombres\"]) &\n",
    "    df_census[\"Edad\"].str.contains(\"año\") &\n",
    "    (df_census[\"Provincias\"].str.len() > 0) &\n",
    "    (df_census[\"Municipios\"].str.len() > 0)\n",
    "].copy()"
   ]
  },
  {
   "cell_type": "code",
   "execution_count": null,
   "metadata": {},
   "outputs": [],
   "source": [
    "# Format municipality identifier\n",
    "df_census[\"municipality_id\"] = df_census[\"Municipios\"].apply(\n",
    "    lambda x: x.split(\" \")[0]\n",
    ")\n",
    "\n",
    "# Only keep of length five\n",
    "df_census = df_census[df_census[\"municipality_id\"].str.len() == 5].copy()\n",
    "df_census[\"municipality_id\"] = df_census[\"municipality_id\"].astype(int)"
   ]
  },
  {
   "cell_type": "code",
   "execution_count": null,
   "metadata": {},
   "outputs": [],
   "source": [
    "# Format age\n",
    "df_census[\"age\"] = df_census[\"Edad\"].apply(lambda x: int(x.split(\" \")[0]))\n",
    "\n",
    "# Format sex\n",
    "df_census[\"sex\"] = df_census[\"Sexo\"].apply(lambda x: 1 if x == \"Hombres\" else 2)\n",
    "\n",
    "# Rename weight\n",
    "df_census[\"weight\"] = df_census[\"Total\"].str.replace(\".\", \"\").astype(float).fillna(0.0).astype(int)"
   ]
  },
  {
   "cell_type": "code",
   "execution_count": null,
   "metadata": {},
   "outputs": [],
   "source": [
    "# Filter for Madrid\n",
    "df_census = df_census[\n",
    "    df_census[\"municipality_id\"].astype(str).str.startswith(\"28\")\n",
    "]"
   ]
  },
  {
   "cell_type": "code",
   "execution_count": null,
   "metadata": {},
   "outputs": [],
   "source": [
    "# Arrange columns\n",
    "df_census = df_census[[\"municipality_id\", \"sex\", \"age\", \"weight\"]].copy()"
   ]
  },
  {
   "cell_type": "code",
   "execution_count": null,
   "metadata": {},
   "outputs": [],
   "source": [
    "df_plot = df_census.groupby(\"sex\")[\"weight\"].sum().reset_index()\n",
    "df_plot[\"sex\"] = df_plot[\"sex\"].replace({ 1: \"M\", 2: \"F\" })\n",
    "px.bar(\n",
    "    df_plot, x = \"sex\", y = \"weight\",\n",
    "    title = \"Population by sex\"\n",
    ")"
   ]
  },
  {
   "cell_type": "code",
   "execution_count": null,
   "metadata": {},
   "outputs": [],
   "source": [
    "df_plot = df_census.groupby(\"age\")[\"weight\"].sum().reset_index()\n",
    "px.bar(\n",
    "    df_plot, x = \"age\", y = \"weight\",\n",
    "    title = \"Population by age\"\n",
    ")"
   ]
  },
  {
   "cell_type": "code",
   "execution_count": null,
   "metadata": {},
   "outputs": [],
   "source": [
    "# Define age classes (in this case like Brussels)\n",
    "age_bounds = np.array([15, 25, 35, 45, 55, 65])\n",
    "\n",
    "indices = np.digitize(df_census[\"age\"], age_bounds)\n",
    "df_census[\"age_class\"] = np.array([0] + list(age_bounds))[indices]"
   ]
  },
  {
   "cell_type": "code",
   "execution_count": null,
   "metadata": {},
   "outputs": [],
   "source": [
    "df_plot = df_census.groupby(\"age_class\")[\"weight\"].sum().reset_index()\n",
    "df_plot[\"age_class\"] = df_plot[\"age_class\"].astype(str)\n",
    "\n",
    "px.bar(\n",
    "    df_plot, x = \"age_class\", y = \"weight\",\n",
    "    title = \"Population by age\"\n",
    ")"
   ]
  },
  {
   "cell_type": "code",
   "execution_count": null,
   "metadata": {},
   "outputs": [],
   "source": [
    "# Output\n",
    "df_census.to_parquet(output_path)"
   ]
  }
 ],
 "metadata": {
  "kernelspec": {
   "display_name": ".venv",
   "language": "python",
   "name": "python3"
  },
  "language_info": {
   "codemirror_mode": {
    "name": "ipython",
    "version": 3
   },
   "file_extension": ".py",
   "mimetype": "text/x-python",
   "name": "python",
   "nbconvert_exporter": "python",
   "pygments_lexer": "ipython3",
   "version": "3.12.3"
  }
 },
 "nbformat": 4,
 "nbformat_minor": 2
}
