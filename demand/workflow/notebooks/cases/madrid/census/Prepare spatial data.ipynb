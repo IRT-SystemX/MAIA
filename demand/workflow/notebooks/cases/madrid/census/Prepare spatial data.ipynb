{
 "cells": [
  {
   "cell_type": "code",
   "execution_count": 1,
   "metadata": {},
   "outputs": [],
   "source": [
    "import pandas as pd\n",
    "import geopandas as gpd\n",
    "import numpy as np\n",
    "import plotly.express as px\n",
    "import zipfile, tempfile"
   ]
  },
  {
   "cell_type": "code",
   "execution_count": 2,
   "metadata": {},
   "outputs": [],
   "source": [
    "if \"snakemake\" in locals():\n",
    "    input_path = snakemake.input[0]\n",
    "    output_path = snakemake.output[0]\n",
    "else:\n",
    "    input_path = \"../../../../resources/madrid/census/lineas_limite.zip\"\n",
    "    output_path = \"../../../../results/madrid/census/spatial.parquet\""
   ]
  },
  {
   "cell_type": "code",
   "execution_count": 3,
   "metadata": {},
   "outputs": [],
   "source": [
    "# Load data\n",
    "with tempfile.TemporaryDirectory(delete = True) as directory:\n",
    "    with zipfile.ZipFile(input_path) as archive:\n",
    "        archive.extractall(directory)\n",
    "\n",
    "    source_path = \"/\".join([\n",
    "        directory,\n",
    "        \"SHP_ETRS89\",\n",
    "        \"recintos_municipales_inspire_peninbal_etrs89\",\n",
    "        \"recintos_municipales_inspire_peninbal_etrs89.shp\"\n",
    "    ])\n",
    "\n",
    "    df_spatial = gpd.read_file(source_path)"
   ]
  },
  {
   "cell_type": "code",
   "execution_count": 4,
   "metadata": {},
   "outputs": [],
   "source": [
    "# Format\n",
    "df_spatial[\"municipality_id\"] = df_spatial[\"NATCODE\"].str[-5:].astype(int)\n",
    "\n",
    "df_spatial = df_spatial[[\"municipality_id\", \"geometry\"]]"
   ]
  },
  {
   "cell_type": "code",
   "execution_count": 5,
   "metadata": {},
   "outputs": [],
   "source": [
    "# Filter for Madrid\n",
    "df_spatial = df_spatial[\n",
    "    df_spatial[\"municipality_id\"].astype(str).str.startswith(\"28\")\n",
    "].copy()"
   ]
  },
  {
   "cell_type": "code",
   "execution_count": 6,
   "metadata": {},
   "outputs": [],
   "source": [
    "df_spatial.to_parquet(output_path)"
   ]
  }
 ],
 "metadata": {
  "kernelspec": {
   "display_name": "maia",
   "language": "python",
   "name": "python3"
  },
  "language_info": {
   "codemirror_mode": {
    "name": "ipython",
    "version": 3
   },
   "file_extension": ".py",
   "mimetype": "text/x-python",
   "name": "python",
   "nbconvert_exporter": "python",
   "pygments_lexer": "ipython3",
   "version": "3.12.0"
  }
 },
 "nbformat": 4,
 "nbformat_minor": 2
}
