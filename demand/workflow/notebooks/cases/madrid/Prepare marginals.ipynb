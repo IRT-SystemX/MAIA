{
 "cells": [
  {
   "cell_type": "code",
   "execution_count": null,
   "metadata": {},
   "outputs": [],
   "source": [
    "import pandas as pd\n",
    "import numpy as np"
   ]
  },
  {
   "cell_type": "code",
   "execution_count": null,
   "metadata": {},
   "outputs": [],
   "source": [
    "if \"snakemake\" in locals():\n",
    "    input_municipalities_path = snakemake.input[\"municipalities\"]\n",
    "    input_passenger_totals_path = snakemake.input[\"daily\"]\n",
    "    input_group_sizes_path = snakemake.input[\"group_sizes\"]\n",
    "    input_locations_path = snakemake.input[\"locations\"]\n",
    "\n",
    "    output_municipalities_path = snakemake.output[\"municipalities\"]\n",
    "    output_passengers_path = snakemake.output[\"passengers\"]\n",
    "    output_young_passengers_path = snakemake.output[\"young\"]\n",
    "    output_missing_locations_path = snakemake.output[\"missing_locations\"]\n",
    "    \n",
    "else:\n",
    "    input_municipalities_path = \"../../../results/madrid/census/municipalities.parquet\"\n",
    "    input_passenger_totals_path = \"../../../results/madrid/airport/daily_totals.parquet\"\n",
    "    input_group_sizes_path = \"../../../results/madrid/airport/group_sizes.parquet\"\n",
    "    input_locations_path = \"../../../results/madrid/osm/locations.parquet\"\n",
    "\n",
    "    output_municipalities_path = \"../../../results/madrid/marginals/municipalities.parquet\"\n",
    "    output_passengers_path = \"../../../results/madrid/marginals/passengers.parquet\"\n",
    "    output_young_passengers_path = \"../../../results/madrid/marginals/young_passengers.parquet\"\n",
    "    output_missing_locations_path = \"../../../results/madrid/marginals/missing_locations.parquet\""
   ]
  },
  {
   "cell_type": "code",
   "execution_count": null,
   "metadata": {},
   "outputs": [],
   "source": [
    "# Read input\n",
    "df_municipalities = pd.read_parquet(input_municipalities_path)\n",
    "\n",
    "df_totals = pd.read_parquet(input_passenger_totals_path)\n",
    "df_group_sizes = pd.read_parquet(input_group_sizes_path)\n",
    "\n",
    "df_locations = pd.read_parquet(input_locations_path)"
   ]
  },
  {
   "cell_type": "code",
   "execution_count": null,
   "metadata": {},
   "outputs": [],
   "source": [
    "# Reduce municipalities\n",
    "df_municipalities = df_municipalities.groupby([\n",
    "    \"municipality_id\", \"age_class\", \"sex\"\n",
    "])[\"weight\"].sum().reset_index()"
   ]
  },
  {
   "cell_type": "code",
   "execution_count": null,
   "metadata": {},
   "outputs": [],
   "source": [
    "# Passenger total\n",
    "mean_group_size = np.sum(df_group_sizes[\"group_size\"] * df_group_sizes[\"weight\"])\n",
    "daily_total = df_totals[\"passengers\"].max() / mean_group_size\n",
    "\n",
    "df_passenger_total = pd.DataFrame({\n",
    "    \"is_passenger\": [True],\n",
    "    \"weight\": [daily_total]\n",
    "})"
   ]
  },
  {
   "cell_type": "code",
   "execution_count": null,
   "metadata": {},
   "outputs": [],
   "source": [
    "# Young passengers\n",
    "df_young = pd.DataFrame({\n",
    "    \"is_passenger\": [True],\n",
    "    \"age_class\": [0],\n",
    "    \"weight\": [0.0]\n",
    "})"
   ]
  },
  {
   "cell_type": "code",
   "execution_count": null,
   "metadata": {},
   "outputs": [],
   "source": [
    "# Make sure that we don't have passengers in sectors where we don't have locations\n",
    "df_missing = pd.DataFrame({\n",
    "    \"municipality_id\": sorted(list(set(df_municipalities[\"municipality_id\"]) - set(df_locations[\"municipality_id\"])))\n",
    "})\n",
    "\n",
    "df_missing[\"is_passenger\"] = True\n",
    "df_missing[\"weight\"] = 0.0"
   ]
  },
  {
   "cell_type": "code",
   "execution_count": null,
   "metadata": {},
   "outputs": [],
   "source": [
    "# Output\n",
    "df_municipalities.to_parquet(output_municipalities_path)\n",
    "df_passenger_total.to_parquet(output_passengers_path)\n",
    "df_young.to_parquet(output_young_passengers_path)\n",
    "df_missing.to_parquet(output_missing_locations_path)"
   ]
  }
 ],
 "metadata": {
  "kernelspec": {
   "display_name": "maia",
   "language": "python",
   "name": "python3"
  },
  "language_info": {
   "codemirror_mode": {
    "name": "ipython",
    "version": 3
   },
   "file_extension": ".py",
   "mimetype": "text/x-python",
   "name": "python",
   "nbconvert_exporter": "python",
   "pygments_lexer": "ipython3",
   "version": "3.12.0"
  }
 },
 "nbformat": 4,
 "nbformat_minor": 2
}
