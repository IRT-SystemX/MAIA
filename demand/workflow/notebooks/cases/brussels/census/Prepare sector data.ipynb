{
 "cells": [
  {
   "cell_type": "code",
   "execution_count": 1,
   "metadata": {},
   "outputs": [],
   "source": [
    "import pandas as pd\n",
    "import numpy as np"
   ]
  },
  {
   "cell_type": "code",
   "execution_count": 2,
   "metadata": {},
   "outputs": [],
   "source": [
    "if \"snakemake\" in locals():\n",
    "    input_path = snakemake.input[0]\n",
    "    output_path = snakemake.output[0]\n",
    "else:\n",
    "    input_path = \"../../../../resources/brussels/census/OPENDATA_SECTOREN_2023.zip\"\n",
    "    output_path = \"../../../../results/brussels/census/sectors.parquet\""
   ]
  },
  {
   "cell_type": "code",
   "execution_count": 3,
   "metadata": {},
   "outputs": [],
   "source": [
    "# Load census data\n",
    "df_census = pd.read_csv(input_path, sep = \"|\")"
   ]
  },
  {
   "cell_type": "code",
   "execution_count": 4,
   "metadata": {},
   "outputs": [],
   "source": [
    "# Clean structure\n",
    "df_census = df_census.rename(columns = {\n",
    "    \"CD_REFNIS\": \"municipality_id\",\n",
    "    \"CD_SECTOR\": \"sector_id\",\n",
    "    \"TOTAL\": \"weight\",\n",
    "})\n",
    "\n",
    "df_codes = df_census[[\"municipality_id\", \"sector_id\"]].copy()\n",
    "df_census = df_census[[\"sector_id\", \"weight\"]]"
   ]
  },
  {
   "cell_type": "code",
   "execution_count": 5,
   "metadata": {},
   "outputs": [],
   "source": [
    "# Aggregate\n",
    "df_census = df_census.groupby(\"sector_id\")[\"weight\"].sum().reset_index()"
   ]
  },
  {
   "cell_type": "code",
   "execution_count": 6,
   "metadata": {},
   "outputs": [],
   "source": [
    "# Add municipality column\n",
    "df_census = pd.merge(df_census, df_codes, on = \"sector_id\", how = \"left\")"
   ]
  },
  {
   "cell_type": "code",
   "execution_count": 7,
   "metadata": {},
   "outputs": [],
   "source": [
    "# Filter ZZZZ out\n",
    "df_census = df_census[~df_census[\"sector_id\"].str.endswith(\"ZZZZ\")]"
   ]
  },
  {
   "cell_type": "code",
   "execution_count": 8,
   "metadata": {},
   "outputs": [],
   "source": [
    "# Integerize\n",
    "df_census[\"sector_index\"] = np.arange(len(df_census))\n",
    "df_census[\"municipality_id\"] = df_census[\"municipality_id\"].astype(int)"
   ]
  },
  {
   "cell_type": "code",
   "execution_count": 9,
   "metadata": {},
   "outputs": [],
   "source": [
    "# Output\n",
    "df_census[[\n",
    "    \"municipality_id\", \"sector_id\", \"sector_index\", \"weight\"\n",
    "]].to_parquet(output_path)"
   ]
  }
 ],
 "metadata": {
  "kernelspec": {
   "display_name": "disco",
   "language": "python",
   "name": "python3"
  },
  "language_info": {
   "codemirror_mode": {
    "name": "ipython",
    "version": 3
   },
   "file_extension": ".py",
   "mimetype": "text/x-python",
   "name": "python",
   "nbconvert_exporter": "python",
   "pygments_lexer": "ipython3",
   "version": "3.12.0"
  }
 },
 "nbformat": 4,
 "nbformat_minor": 2
}
