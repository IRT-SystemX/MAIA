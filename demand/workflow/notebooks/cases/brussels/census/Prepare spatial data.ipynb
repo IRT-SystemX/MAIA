{
 "cells": [
  {
   "cell_type": "code",
   "execution_count": 1,
   "metadata": {},
   "outputs": [],
   "source": [
    "import geopandas as gpd\n",
    "import pandas as pd\n",
    "import tempfile, zipfile"
   ]
  },
  {
   "cell_type": "code",
   "execution_count": 2,
   "metadata": {},
   "outputs": [],
   "source": [
    "if \"snakemake\" in locals():\n",
    "    input_data_path = snakemake.input[\"data\"]\n",
    "    input_sectors_path = snakemake.input[\"sectors\"]\n",
    "    output_path = snakemake.output[0]\n",
    "else:\n",
    "    input_data_path = \"../../../../resources/brussels/census/sh_statbel_statistical_sectors_3812_20230101.shp.zip\"\n",
    "    input_sectors_path = \"../../../../results/brussels/census/sectors.parquet\"\n",
    "    output_path = \"../../../../results/brussels/census/spatial.parquet\""
   ]
  },
  {
   "cell_type": "code",
   "execution_count": 3,
   "metadata": {},
   "outputs": [],
   "source": [
    "# Load spatial data\n",
    "with tempfile.TemporaryDirectory() as directory:\n",
    "    with zipfile.ZipFile(input_data_path) as archive:\n",
    "        archive.extractall(directory)\n",
    "        df_spatial = gpd.read_file(\"{}/sh_statbel_statistical_sectors_3812_20230101.shp\".format(directory))"
   ]
  },
  {
   "cell_type": "code",
   "execution_count": 4,
   "metadata": {},
   "outputs": [],
   "source": [
    "# Translate province to identifiers from parking file\n",
    "df_spatial[\"province\"] = df_spatial[\"CNIS_PROVI\"].replace({\n",
    "    \"10000\": \"ant\",\n",
    "    \"20001\": \"vbr\",\n",
    "    \"20002\": \"wbr\",\n",
    "    \"30000\": \"wvl\",\n",
    "    \"40000\": \"ovl\",\n",
    "    \"50000\": \"hen\",\n",
    "    \"60000\": \"lui\",\n",
    "    \"70000\": \"lim\",\n",
    "    \"80000\": \"lux\", # does not exist in parking data\n",
    "    \"90000\": \"nam\",\n",
    "    None: \"bru\"\n",
    "})"
   ]
  },
  {
   "cell_type": "code",
   "execution_count": 5,
   "metadata": {},
   "outputs": [],
   "source": [
    "# Load sector identifiers\n",
    "df_sectors = pd.read_parquet(input_sectors_path)[[\"sector_id\", \"sector_index\"]]"
   ]
  },
  {
   "cell_type": "code",
   "execution_count": 6,
   "metadata": {},
   "outputs": [],
   "source": [
    "# Clean structure\n",
    "df_spatial = df_spatial.rename(columns = {\n",
    "    \"CS01012023\": \"sector_id\",\n",
    "    \"CNIS5_2023\": \"municipality_id\"\n",
    "})\n",
    "\n",
    "df_spatial = df_spatial[[\"municipality_id\", \"sector_id\", \"province\", \"geometry\"]]"
   ]
  },
  {
   "cell_type": "code",
   "execution_count": 7,
   "metadata": {},
   "outputs": [],
   "source": [
    "# Convert municipality column\n",
    "df_spatial[\"municipality_id\"] = df_spatial[\"municipality_id\"].astype(int)"
   ]
  },
  {
   "cell_type": "code",
   "execution_count": 8,
   "metadata": {},
   "outputs": [],
   "source": [
    "# Merge sector index\n",
    "df_spatial = pd.merge(df_spatial, df_sectors, on = \"sector_id\")"
   ]
  },
  {
   "cell_type": "code",
   "execution_count": 9,
   "metadata": {},
   "outputs": [],
   "source": [
    "# Output\n",
    "df_spatial.to_parquet(output_path)"
   ]
  }
 ],
 "metadata": {
  "kernelspec": {
   "display_name": "maia",
   "language": "python",
   "name": "python3"
  },
  "language_info": {
   "codemirror_mode": {
    "name": "ipython",
    "version": 3
   },
   "file_extension": ".py",
   "mimetype": "text/x-python",
   "name": "python",
   "nbconvert_exporter": "python",
   "pygments_lexer": "ipython3",
   "version": "3.12.0"
  }
 },
 "nbformat": 4,
 "nbformat_minor": 2
}
