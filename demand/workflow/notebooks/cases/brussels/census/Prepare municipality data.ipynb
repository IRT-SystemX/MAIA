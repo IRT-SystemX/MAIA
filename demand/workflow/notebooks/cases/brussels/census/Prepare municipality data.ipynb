{
 "cells": [
  {
   "cell_type": "code",
   "execution_count": null,
   "metadata": {},
   "outputs": [],
   "source": [
    "import pandas as pd\n",
    "import numpy as np\n",
    "import plotly.express as px"
   ]
  },
  {
   "cell_type": "code",
   "execution_count": null,
   "metadata": {},
   "outputs": [],
   "source": [
    "if \"snakemake\" in locals():\n",
    "    input_path = snakemake.input[0]\n",
    "    output_path = snakemake.output[0]\n",
    "else:\n",
    "    input_path = \"../../../../resources/brussels/census/TF_SOC_POP_STRUCT_2023.zip\"\n",
    "    output_path = \"../../../../results/brussels/census/municipalities.parquet\""
   ]
  },
  {
   "cell_type": "code",
   "execution_count": null,
   "metadata": {},
   "outputs": [],
   "source": [
    "# Load census data\n",
    "df_census = pd.read_csv(input_path, sep = \"|\", dtype = { \"CD_REFNIS\": \"str\" })"
   ]
  },
  {
   "cell_type": "code",
   "execution_count": null,
   "metadata": {},
   "outputs": [],
   "source": [
    "# Clean structure\n",
    "df_census = df_census.rename(columns = {\n",
    "    \"CD_REFNIS\": \"municipality_id\",\n",
    "    \"CD_SEX\": \"sex\",\n",
    "    \"CD_AGE\": \"age\",\n",
    "    \"MS_POPULATION\": \"weight\",\n",
    "})\n",
    "\n",
    "df_census = df_census.groupby([\"municipality_id\", \"sex\", \"age\"])[\"weight\"].sum().reset_index()"
   ]
  },
  {
   "cell_type": "code",
   "execution_count": null,
   "metadata": {},
   "outputs": [],
   "source": [
    "# Formatting to make it integer-based\n",
    "df_census[\"sex\"] = df_census[\"sex\"].replace({ \"M\": 1, \"F\": 2 }).astype(int)\n",
    "df_census[\"municipality_id\"] = df_census[\"municipality_id\"].astype(int)"
   ]
  },
  {
   "cell_type": "code",
   "execution_count": null,
   "metadata": {},
   "outputs": [],
   "source": [
    "# Plot age distribution\n",
    "df_plot = df_census.groupby(\"age\")[\"weight\"].sum().reset_index()\n",
    "\n",
    "px.line(\n",
    "    df_plot, x = \"age\", y = \"weight\",\n",
    "    title = \"Population by age\"\n",
    ")"
   ]
  },
  {
   "cell_type": "code",
   "execution_count": null,
   "metadata": {},
   "outputs": [],
   "source": [
    "# Plot sex distribution\n",
    "df_plot = df_census.groupby(\"sex\")[\"weight\"].sum().reset_index()\n",
    "df_plot[\"sex\"] = df_plot[\"sex\"].replace({ 1: \"Male\", 2: \"Female\" })\n",
    "\n",
    "px.bar(\n",
    "    df_plot, x = \"sex\", y = \"weight\",\n",
    "    title = \"Population by sex\"\n",
    ")"
   ]
  },
  {
   "cell_type": "code",
   "execution_count": null,
   "metadata": {},
   "outputs": [],
   "source": [
    "# Establish age classes (same as airport data)\n",
    "age_bounds = np.array([15, 25, 35, 45, 55, 65])\n",
    "\n",
    "indices = np.digitize(df_census[\"age\"], age_bounds)\n",
    "df_census[\"age_class\"] = np.array([0] + list(age_bounds))[indices]"
   ]
  },
  {
   "cell_type": "code",
   "execution_count": null,
   "metadata": {},
   "outputs": [],
   "source": [
    "# Plot age class\n",
    "df_plot = df_census.groupby(\"age_class\")[\"weight\"].sum().reset_index()\n",
    "df_plot[\"age_class\"] = df_plot[\"age_class\"].astype(str)\n",
    "\n",
    "px.bar(\n",
    "    df_plot, x = \"age_class\", y = \"weight\",\n",
    "    title = \"Population by age class\"\n",
    ")"
   ]
  },
  {
   "cell_type": "code",
   "execution_count": null,
   "metadata": {},
   "outputs": [],
   "source": [
    "# Output\n",
    "df_census.to_parquet(output_path)"
   ]
  }
 ],
 "metadata": {
  "kernelspec": {
   "display_name": "disco",
   "language": "python",
   "name": "python3"
  },
  "language_info": {
   "codemirror_mode": {
    "name": "ipython",
    "version": 3
   },
   "file_extension": ".py",
   "mimetype": "text/x-python",
   "name": "python",
   "nbconvert_exporter": "python",
   "pygments_lexer": "ipython3",
   "version": "3.12.0"
  }
 },
 "nbformat": 4,
 "nbformat_minor": 2
}
