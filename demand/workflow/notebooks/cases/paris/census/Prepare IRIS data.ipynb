{
 "cells": [
  {
   "cell_type": "code",
   "execution_count": null,
   "metadata": {},
   "outputs": [],
   "source": [
    "import pandas as pd\n",
    "import numpy as np\n",
    "import plotly.express as px\n",
    "import zipfile"
   ]
  },
  {
   "cell_type": "code",
   "execution_count": null,
   "metadata": {},
   "outputs": [],
   "source": [
    "if \"snakemake\" in locals():\n",
    "    input_path = snakemake.input[0]\n",
    "    output_path = snakemake.output[0]\n",
    "    \n",
    "else:\n",
    "    input_path = \"../../../../resources/paris/census/base-ic-evol-struct-pop-2019_csv.zip\"\n",
    "    output_path = \"../../../../results/paris/census/iris.parquet\""
   ]
  },
  {
   "cell_type": "code",
   "execution_count": null,
   "metadata": {},
   "outputs": [],
   "source": [
    "# Load census data\n",
    "with zipfile.ZipFile(input_path) as archive:\n",
    "    with archive.open(\"base-ic-evol-struct-pop-2019.CSV\") as f:\n",
    "        df_census = pd.read_csv(f, sep = \";\", dtype = {\n",
    "            \"IRIS\": str, \"COM\": str\n",
    "        })"
   ]
  },
  {
   "cell_type": "code",
   "execution_count": null,
   "metadata": {},
   "outputs": [],
   "source": [
    "# Filter for Île-de-France region\n",
    "df_census = df_census[df_census[\"COM\"].str[:2].isin([\n",
    "    \"75\", \"91\", \"92\", \"93\", \"77\", \"94\", \"95\", \"78\"\n",
    "])]"
   ]
  },
  {
   "cell_type": "code",
   "execution_count": null,
   "metadata": {},
   "outputs": [],
   "source": [
    "# Restructure data frame\n",
    "df_census = df_census[[\n",
    "    \"COM\", \"IRIS\",\n",
    "    \"P19_H0014\", \"P19_H1529\", \"P19_H3044\", \"P19_H4559\", \"P19_H6074\", \"P19_H75P\",\n",
    "    \"P19_F0014\", \"P19_F1529\", \"P19_F3044\", \"P19_F4559\", \"P19_F6074\", \"P19_F75P\", \n",
    "]].melt([\"IRIS\", \"COM\"], value_name = \"weight\")"
   ]
  },
  {
   "cell_type": "code",
   "execution_count": null,
   "metadata": {},
   "outputs": [],
   "source": [
    "# Formatting\n",
    "df_census = df_census.rename(columns = {\n",
    "    \"COM\": \"municipality_id\", \"IRIS\": \"iris_id\"\n",
    "})\n",
    "\n",
    "df_census[\"iris_id\"] = df_census[\"iris_id\"].astype(int)\n",
    "df_census[\"municipality_id\"] = df_census[\"municipality_id\"].astype(int)"
   ]
  },
  {
   "cell_type": "code",
   "execution_count": null,
   "metadata": {},
   "outputs": [],
   "source": [
    "# Add sex attribute\n",
    "df_census[\"sex\"] = df_census[\"variable\"].apply(\n",
    "    lambda x: 1 if x.startswith(\"P19_H\") else 2\n",
    ")\n",
    "\n",
    "# Add age lower attribute\n",
    "df_census[\"age_class\"] = df_census[\"variable\"].apply(\n",
    "    lambda x: int(x[5:7])\n",
    ")\n",
    "\n",
    "df_census = df_census.drop(columns = [\"variable\"])"
   ]
  },
  {
   "cell_type": "code",
   "execution_count": null,
   "metadata": {},
   "outputs": [],
   "source": [
    "df_plot = df_census.groupby(\"sex\")[\"weight\"].sum().reset_index()\n",
    "df_plot[\"sex\"] = df_plot[\"sex\"].replace({ 1: \"M\", 2: \"F\" })\n",
    "px.bar(\n",
    "    df_plot, x = \"sex\", y = \"weight\",\n",
    "    title = \"Population by sex\"\n",
    ")"
   ]
  },
  {
   "cell_type": "code",
   "execution_count": null,
   "metadata": {},
   "outputs": [],
   "source": [
    "df_plot = df_census.groupby(\"age_class\")[\"weight\"].sum().reset_index()\n",
    "df_plot[\"age_class\"] = df_plot[\"age_class\"].astype(str)\n",
    "px.bar(\n",
    "    df_plot, x = \"age_class\", y = \"weight\",\n",
    "    title = \"Population by age class\"\n",
    ")"
   ]
  },
  {
   "cell_type": "code",
   "execution_count": null,
   "metadata": {},
   "outputs": [],
   "source": [
    "# Output\n",
    "df_census.to_parquet(output_path)"
   ]
  }
 ],
 "metadata": {
  "kernelspec": {
   "display_name": "disco",
   "language": "python",
   "name": "python3"
  },
  "language_info": {
   "codemirror_mode": {
    "name": "ipython",
    "version": 3
   },
   "file_extension": ".py",
   "mimetype": "text/x-python",
   "name": "python",
   "nbconvert_exporter": "python",
   "pygments_lexer": "ipython3",
   "version": "3.1.-1"
  }
 },
 "nbformat": 4,
 "nbformat_minor": 2
}
