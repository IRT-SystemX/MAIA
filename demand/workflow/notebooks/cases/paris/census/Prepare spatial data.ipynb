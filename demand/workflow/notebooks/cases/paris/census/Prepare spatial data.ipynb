{
 "cells": [
  {
   "cell_type": "code",
   "execution_count": 12,
   "metadata": {},
   "outputs": [],
   "source": [
    "import pandas as pd\n",
    "import geopandas as gpd\n",
    "import numpy as np\n",
    "import py7zr, tempfile\n",
    "import shutil"
   ]
  },
  {
   "cell_type": "code",
   "execution_count": 3,
   "metadata": {},
   "outputs": [],
   "source": [
    "if \"snakemake\" in locals():\n",
    "    input_path = snakemake.input[0]\n",
    "    output_path = snakemake.output[0]\n",
    "\n",
    "else:\n",
    "    input_path = \"../../../../resources/france/census/CONTOURS-IRIS_2-1__SHP__FRA_2021-01-01.7z\"\n",
    "    output_path = \"../../../../results/par/census/spatial.parquet\""
   ]
  },
  {
   "cell_type": "code",
   "execution_count": 13,
   "metadata": {},
   "outputs": [],
   "source": [
    "with tempfile.TemporaryDirectory(delete = True) as directory:\n",
    "    with py7zr.SevenZipFile(input_path) as archive:\n",
    "        archive.extractall(path = directory)\n",
    "\n",
    "    source_path = \"/\".join([\n",
    "        directory, \n",
    "        \"CONTOURS-IRIS_2-1__SHP__FRA_2021-01-01\",\n",
    "        \"CONTOURS-IRIS\",\n",
    "        \"1_DONNEES_LIVRAISON_2021-06-00217\",\n",
    "        \"CONTOURS-IRIS_2-1_SHP_LAMB93_FXX-2021\",\n",
    "        \"CONTOURS-IRIS.shp\"\n",
    "    ])\n",
    "\n",
    "    df_spatial = gpd.read_file(source_path)"
   ]
  },
  {
   "cell_type": "code",
   "execution_count": 18,
   "metadata": {},
   "outputs": [],
   "source": [
    "# Filter for Île-de-France region\n",
    "df_spatial = df_spatial[df_spatial[\"INSEE_COM\"].str[:2].isin([\n",
    "    \"75\", \"91\", \"92\", \"93\", \"77\", \"94\", \"95\", \"78\"\n",
    "])]"
   ]
  },
  {
   "cell_type": "code",
   "execution_count": 19,
   "metadata": {},
   "outputs": [],
   "source": [
    "# Formatting\n",
    "df_spatial[\"municipality_id\"] = df_spatial[\"INSEE_COM\"].astype(int)\n",
    "df_spatial[\"iris_id\"] = df_spatial[\"CODE_IRIS\"].astype(int)\n",
    "\n",
    "df_spatial = df_spatial[[\"municipality_id\", \"iris_id\", \"geometry\"]]"
   ]
  },
  {
   "cell_type": "code",
   "execution_count": 22,
   "metadata": {},
   "outputs": [],
   "source": [
    "df_spatial.to_parquet(output_path)"
   ]
  }
 ],
 "metadata": {
  "kernelspec": {
   "display_name": "maia",
   "language": "python",
   "name": "python3"
  },
  "language_info": {
   "codemirror_mode": {
    "name": "ipython",
    "version": 3
   },
   "file_extension": ".py",
   "mimetype": "text/x-python",
   "name": "python",
   "nbconvert_exporter": "python",
   "pygments_lexer": "ipython3",
   "version": "3.12.0"
  }
 },
 "nbformat": 4,
 "nbformat_minor": 2
}
