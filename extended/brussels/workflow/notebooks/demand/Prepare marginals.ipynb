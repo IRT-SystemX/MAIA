{
 "cells": [
  {
   "cell_type": "code",
   "execution_count": 10,
   "metadata": {},
   "outputs": [],
   "source": [
    "import pandas as pd\n",
    "import numpy as np"
   ]
  },
  {
   "cell_type": "code",
   "execution_count": 11,
   "metadata": {},
   "outputs": [],
   "source": [
    "if \"snakemake\" in locals():\n",
    "    input_municipalities_path = snakemake.input[\"municipalities\"]\n",
    "    input_sectors_path = snakemake.input[\"sectors\"]\n",
    "\n",
    "    input_passenger_survey_path = snakemake.input[\"survey\"]\n",
    "    input_passenger_daily_path = snakemake.input[\"daily\"]\n",
    "    input_group_sizes_path = snakemake.input[\"group_sizes\"]\n",
    "\n",
    "    input_locations_path = snakemake.input[\"locations\"]\n",
    "\n",
    "    output_municipalities_path = snakemake.output[\"municipalities\"]\n",
    "    output_sectors_path = snakemake.output[\"sectors\"]\n",
    "    output_passengers_path = snakemake.output[\"passengers\"]\n",
    "    output_missing_locations_path = snakemake.output[\"missing_locations\"]\n",
    "\n",
    "else:\n",
    "    input_municipalities_path = \"../../../results/brussels/census/municipalities.parquet\"\n",
    "    input_sectors_path = \"../../../results/brussels/census/sectors.parquet\"\n",
    "\n",
    "    input_passenger_survey_path = \"../../../results/brussels/airport/survey.parquet\"\n",
    "    input_passenger_daily_path = \"../../../results/brussels/airport/daily_totals.parquet\"\n",
    "    input_group_sizes_path = \"../../../results/brussels/airport/group_sizes.parquet\"\n",
    "\n",
    "    input_locations_path = \"../../../results/brussels/osm/locations.parquet\"\n",
    "\n",
    "    output_municipalities_path = \"../../../results/brussels/marginals/municipalities.parquet\"\n",
    "    output_sectors_path = \"../../../results/brussels/marginals/sectors.parquet\"\n",
    "    output_passengers_path = \"../../../results/brussels/marginals/passengers.parquet\"\n",
    "    output_missing_locations_path = \"../../../results/brussels/marginals/missing_locations.parquet\""
   ]
  },
  {
   "cell_type": "code",
   "execution_count": 12,
   "metadata": {},
   "outputs": [],
   "source": [
    "# Read input\n",
    "df_municipalities = pd.read_parquet(input_municipalities_path)\n",
    "df_sectors = pd.read_parquet(input_sectors_path)\n",
    "\n",
    "df_daily = pd.read_parquet(input_passenger_daily_path)\n",
    "df_survey = pd.read_parquet(input_passenger_survey_path)\n",
    "\n",
    "df_group_sizes = pd.read_parquet(input_group_sizes_path)\n",
    "\n",
    "df_locations = pd.read_parquet(input_locations_path)"
   ]
  },
  {
   "cell_type": "code",
   "execution_count": 13,
   "metadata": {},
   "outputs": [],
   "source": [
    "# Reduce municipalities\n",
    "df_municipalities = df_municipalities.groupby([\n",
    "    \"municipality_id\", \"age_class\", \"sex\"\n",
    "])[\"weight\"].sum().reset_index()\n",
    "\n",
    "# Reduce sectors\n",
    "df_sectors = df_sectors[[\"sector_index\", \"weight\"]]"
   ]
  },
  {
   "cell_type": "code",
   "execution_count": 14,
   "metadata": {},
   "outputs": [],
   "source": [
    "# Transform passenger data\n",
    "mean_group_size = np.sum(df_group_sizes[\"group_size\"] * df_group_sizes[\"weight\"])\n",
    "daily_total = df_daily[\"count\"].sum() / mean_group_size\n",
    "\n",
    "df_survey[\"weight\"] = df_survey[\"probability\"] * daily_total\n",
    "df_survey[\"is_passenger\"] = True\n",
    "\n",
    "# Select columns for marginal\n",
    "df_survey = df_survey[[\"municipality_id\", \"sex\", \"age_class\", \"is_passenger\", \"weight\"]].copy()"
   ]
  },
  {
   "cell_type": "code",
   "execution_count": 15,
   "metadata": {},
   "outputs": [],
   "source": [
    "# Make sure that we don't have passengers in the first age category\n",
    "df_young = df_survey[[\"municipality_id\", \"sex\"]].drop_duplicates()\n",
    "df_young[\"age_class\"] = 0\n",
    "df_young[\"weight\"] = 0.0\n",
    "df_young[\"is_passenger\"] = True\n",
    "df_survey = pd.concat([df_survey, df_young])"
   ]
  },
  {
   "cell_type": "code",
   "execution_count": 16,
   "metadata": {},
   "outputs": [],
   "source": [
    "# Make sure that we don't have passengers in sectors where we don't have locations\n",
    "df_missing = pd.DataFrame({\n",
    "    \"sector_index\": sorted(list(set(df_sectors[\"sector_index\"]) - set(df_locations[\"sector_index\"])))\n",
    "})\n",
    "\n",
    "df_missing[\"is_passenger\"] = True\n",
    "df_missing[\"weight\"] = 0.0"
   ]
  },
  {
   "cell_type": "code",
   "execution_count": 17,
   "metadata": {},
   "outputs": [],
   "source": [
    "# Output\n",
    "df_municipalities.to_parquet(output_municipalities_path)\n",
    "df_sectors.to_parquet(output_sectors_path)\n",
    "df_survey.to_parquet(output_passengers_path)\n",
    "df_missing.to_parquet(output_missing_locations_path)"
   ]
  }
 ],
 "metadata": {
  "kernelspec": {
   "display_name": "maia",
   "language": "python",
   "name": "python3"
  },
  "language_info": {
   "codemirror_mode": {
    "name": "ipython",
    "version": 3
   },
   "file_extension": ".py",
   "mimetype": "text/x-python",
   "name": "python",
   "nbconvert_exporter": "python",
   "pygments_lexer": "ipython3",
   "version": "3.12.0"
  }
 },
 "nbformat": 4,
 "nbformat_minor": 2
}
