{
 "cells": [
  {
   "cell_type": "code",
   "execution_count": null,
   "metadata": {},
   "outputs": [],
   "source": [
    "import geopandas as gpd\n",
    "import plotly.express as px"
   ]
  },
  {
   "cell_type": "code",
   "execution_count": null,
   "metadata": {},
   "outputs": [],
   "source": [
    "if \"snakemake\" in locals():\n",
    "    input_path = snakemake.input[0]\n",
    "    output_path = snakemake.output[0]\n",
    "\n",
    "else:\n",
    "    input_path = \"../../../results/brussels/trips/passenger_trips_seed1000.gpkg\"\n",
    "    output_path = \"../../../results/brussels/trips/passenger_trips_seed1000.xlsx\""
   ]
  },
  {
   "cell_type": "code",
   "execution_count": null,
   "metadata": {},
   "outputs": [],
   "source": [
    "# Read generated data\n",
    "df = gpd.read_file(input_path).to_crs(\"EPSG:4326\")"
   ]
  },
  {
   "cell_type": "code",
   "execution_count": null,
   "metadata": {},
   "outputs": [],
   "source": [
    "# Location\n",
    "df[\"origin_longitude\"] = df[\"geometry\"].apply(lambda p: p.coords[0][0])\n",
    "df[\"origin_latitude\"] = df[\"geometry\"].apply(lambda p: p.coords[0][1])\n",
    "\n",
    "df[\"destination_longitude\"] = df[\"geometry\"].apply(lambda p: p.coords[1][0])\n",
    "df[\"destination_latitude\"] = df[\"geometry\"].apply(lambda p: p.coords[1][1])"
   ]
  },
  {
   "cell_type": "code",
   "execution_count": null,
   "metadata": {},
   "outputs": [],
   "source": [
    "# Gender\n",
    "df[\"sex\"] = df[\"sex\"].replace({ 1: \"m\", 2: \"f\" })\n",
    "\n",
    "# Departure hour\n",
    "df[\"departure_time\"] = df[\"reference_time\"]"
   ]
  },
  {
   "cell_type": "code",
   "execution_count": null,
   "metadata": {},
   "outputs": [],
   "source": [
    "# Cleanup\n",
    "df = df[[\n",
    "    \"origin_longitude\", \"origin_latitude\",\n",
    "    \"destination_longitude\", \"destination_latitude\",\n",
    "    \"departure_time\", \"province\", \"postcode\",\n",
    "    \"age_class\", \"sex\", \"cabin_class\", \"group_size\", \"luggage_size\",\n",
    "    \"frequent_flyer\", \"purpose\", \"use_parking\", \"is_access\",\n",
    "]]"
   ]
  },
  {
   "cell_type": "code",
   "execution_count": null,
   "metadata": {},
   "outputs": [],
   "source": [
    "# Output\n",
    "df.to_excel(output_path, index = False)"
   ]
  },
  {
   "cell_type": "code",
   "execution_count": null,
   "metadata": {},
   "outputs": [],
   "source": [
    "for attribute in [\"departure_time\", \"age_class\", \"sex\", \"cabin_class\", \"group_size\", \"luggage_size\", \"frequent_flyer\", \"purpose\", \"is_access\", \"province\", \"postcode\", \"use_parking\"]:\n",
    "    df_plot = df.groupby(attribute).size().reset_index(name = \"weight\")\n",
    "    \n",
    "    if attribute == \"postcode\":\n",
    "        print(df_plot)\n",
    "\n",
    "    else:\n",
    "        if attribute == \"departure_time\":\n",
    "            df_plot[\"departure_time\"] = df_plot[\"departure_time\"] // 3600\n",
    "        \n",
    "        figure = px.bar(df_plot, x = attribute, y = \"weight\", title = attribute)\n",
    "        figure.show()"
   ]
  }
 ],
 "metadata": {
  "kernelspec": {
   "display_name": "maia",
   "language": "python",
   "name": "python3"
  },
  "language_info": {
   "codemirror_mode": {
    "name": "ipython",
    "version": 3
   },
   "file_extension": ".py",
   "mimetype": "text/x-python",
   "name": "python",
   "nbconvert_exporter": "python",
   "pygments_lexer": "ipython3",
   "version": "3.12.0"
  }
 },
 "nbformat": 4,
 "nbformat_minor": 2
}
