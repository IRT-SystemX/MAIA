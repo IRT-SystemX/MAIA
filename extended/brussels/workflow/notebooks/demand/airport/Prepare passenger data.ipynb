{
 "cells": [
  {
   "cell_type": "code",
   "execution_count": null,
   "metadata": {},
   "outputs": [],
   "source": [
    "import pandas as pd\n",
    "import plotly.express as px"
   ]
  },
  {
   "cell_type": "code",
   "execution_count": null,
   "metadata": {},
   "outputs": [],
   "source": [
    "if \"snakemake\" in locals():\n",
    "    input_path = snakemake.input[0]\n",
    "    output_path = snakemake.output[0]\n",
    "else:\n",
    "    input_path = \"../../../../resources/brussels/airport/resp_by_mun_age_sex_TML.csv\"\n",
    "    output_path = \"../../../../results/brussels/airport/survey.parquet\""
   ]
  },
  {
   "cell_type": "code",
   "execution_count": null,
   "metadata": {},
   "outputs": [],
   "source": [
    "# Load passenger data\n",
    "df_passengers = pd.read_csv(input_path, dtype = {\n",
    "    \"NIS5_Code\": str\n",
    "})"
   ]
  },
  {
   "cell_type": "code",
   "execution_count": null,
   "metadata": {},
   "outputs": [],
   "source": [
    "# Clean structure\n",
    "df_passengers[\"Age_Group\"] = df_passengers[\"Age_Group\"].replace({ \"65+\": \"65-1000\" })\n",
    "df_passengers[\"age_class\"] = df_passengers[\"Age_Group\"].apply(lambda x: x.split(\"-\")[0]).astype(int)\n",
    "\n",
    "df_passengers = df_passengers.rename(columns = {\n",
    "    \"NIS5_Code\": \"municipality_id\", \n",
    "    \"Resp_by_year\": \"annual_respondents\",\n",
    "    \"Probability\": \"probability\"\n",
    "})\n",
    "\n",
    "df_passengers[\"sex\"] = df_passengers[\"Gender\"].replace({ \"Male\": 1, \"Female\": 2 }).astype(int)\n",
    "df_passengers[\"municipality_id\"] = df_passengers[\"municipality_id\"].astype(int)\n",
    "\n",
    "df_passengers = df_passengers[[\"municipality_id\", \"sex\", \"age_class\", \n",
    "    \"annual_respondents\", \"probability\"]]"
   ]
  },
  {
   "cell_type": "code",
   "execution_count": null,
   "metadata": {},
   "outputs": [],
   "source": [
    "df_plot = df_passengers.groupby(\"sex\")[\"annual_respondents\"].sum().reset_index()\n",
    "df_plot[\"sex\"] = df_plot[\"sex\"].replace({ 1: \"M\", 2: \"F\" })\n",
    "px.bar(\n",
    "    df_plot, x = \"sex\", y = \"annual_respondents\",\n",
    "    title = \"Survey respondents by sex\"\n",
    ")"
   ]
  },
  {
   "cell_type": "code",
   "execution_count": null,
   "metadata": {},
   "outputs": [],
   "source": [
    "df_plot = df_passengers.groupby(\"age_class\")[\"annual_respondents\"].sum().reset_index()\n",
    "df_plot[\"age_class\"] = df_plot[\"age_class\"].astype(str)\n",
    "\n",
    "px.bar(\n",
    "    df_plot, x = \"age_class\", y = \"annual_respondents\",\n",
    "    title = \"Survey respondents by age class\"\n",
    ")"
   ]
  },
  {
   "cell_type": "code",
   "execution_count": null,
   "metadata": {},
   "outputs": [],
   "source": [
    "# Output\n",
    "df_passengers.to_parquet(output_path)"
   ]
  }
 ],
 "metadata": {
  "kernelspec": {
   "display_name": "maia",
   "language": "python",
   "name": "python3"
  },
  "language_info": {
   "codemirror_mode": {
    "name": "ipython",
    "version": 3
   },
   "file_extension": ".py",
   "mimetype": "text/x-python",
   "name": "python",
   "nbconvert_exporter": "python",
   "pygments_lexer": "ipython3",
   "version": "3.12.0"
  }
 },
 "nbformat": 4,
 "nbformat_minor": 2
}
