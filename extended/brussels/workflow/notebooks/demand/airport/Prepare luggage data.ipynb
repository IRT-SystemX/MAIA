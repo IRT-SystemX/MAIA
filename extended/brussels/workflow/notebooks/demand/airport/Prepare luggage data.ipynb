{
 "cells": [
  {
   "cell_type": "code",
   "execution_count": null,
   "metadata": {},
   "outputs": [],
   "source": [
    "import pandas as pd\n",
    "import numpy as np\n",
    "import plotly.express as px"
   ]
  },
  {
   "cell_type": "code",
   "execution_count": null,
   "metadata": {},
   "outputs": [],
   "source": [
    "if \"snakemake\" in locals():\n",
    "    input_path = snakemake.input[0]\n",
    "    output_path = snakemake.output[0]\n",
    "else:\n",
    "    input_path = \"../../../../resources/brussels/airport/luggage_distribution_per_province_cabin_class.xlsx\"\n",
    "    output_path = \"../../../../results/brussels/airport/luggage.parquet\""
   ]
  },
  {
   "cell_type": "code",
   "execution_count": null,
   "metadata": {},
   "outputs": [],
   "source": [
    "# Load data\n",
    "df = pd.read_excel(input_path)"
   ]
  },
  {
   "cell_type": "code",
   "execution_count": null,
   "metadata": {},
   "outputs": [],
   "source": [
    "# Cleanup\n",
    "df[\"province\"] = df[\"province_Belgium\"].ffill().replace({\n",
    "    \"Antwerpen\": \"ant\",\n",
    "    \"Brussel\": \"bru\",\n",
    "    \"Henegouwen\": \"hen\",\n",
    "    \"Limburg\": \"lim\",\n",
    "    \"Luik\": \"lui\",\n",
    "    \"Luxemburg\": \"lux\",\n",
    "    \"Namen\": \"nam\",\n",
    "    \"Oost-Vlaanderen\": \"ovl\",\n",
    "    \"Vlaams Brabant\": \"vbr\",\n",
    "    \"Waals Brabant\": \"wbr\",\n",
    "    \"West-Vlaanderen\": \"wvl\"\n",
    "})\n",
    "\n",
    "assert not np.any(df[\"province\"].isna())\n",
    "df = df.drop(columns = [\"province_Belgium\"])\n",
    "\n",
    "df[\"cabin_class\"] = df[\"cabin_class\"].str.lower().str.strip()"
   ]
  },
  {
   "cell_type": "code",
   "execution_count": null,
   "metadata": {},
   "outputs": [],
   "source": [
    "# Aggregate\n",
    "df = df.melt(\n",
    "    [\"province\", \"cabin_class\"], var_name = \"luggage_size\", value_name = \"weight\"\n",
    ")\n",
    "\n",
    "df[\"luggage_size\"] = df[\"luggage_size\"].astype(int)"
   ]
  },
  {
   "cell_type": "code",
   "execution_count": null,
   "metadata": {},
   "outputs": [],
   "source": [
    "# Output\n",
    "df.to_parquet(output_path)"
   ]
  },
  {
   "cell_type": "code",
   "execution_count": null,
   "metadata": {},
   "outputs": [],
   "source": [
    "px.bar(df, x = \"luggage_size\", color = \"province\", y = \"weight\", facet_col = \"cabin_class\")"
   ]
  }
 ],
 "metadata": {
  "kernelspec": {
   "display_name": "maia",
   "language": "python",
   "name": "python3"
  },
  "language_info": {
   "codemirror_mode": {
    "name": "ipython",
    "version": 3
   },
   "file_extension": ".py",
   "mimetype": "text/x-python",
   "name": "python",
   "nbconvert_exporter": "python",
   "pygments_lexer": "ipython3",
   "version": "3.12.0"
  }
 },
 "nbformat": 4,
 "nbformat_minor": 2
}
