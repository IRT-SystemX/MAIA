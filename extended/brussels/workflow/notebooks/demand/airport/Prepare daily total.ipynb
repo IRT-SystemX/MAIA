{
 "cells": [
  {
   "cell_type": "code",
   "execution_count": null,
   "metadata": {},
   "outputs": [],
   "source": [
    "import pandas as pd\n",
    "import json\n",
    "import plotly.express as px"
   ]
  },
  {
   "cell_type": "code",
   "execution_count": null,
   "metadata": {},
   "outputs": [],
   "source": [
    "if \"snakemake\" in locals():\n",
    "    input_departures_path = snakemake.input[\"departures\"]\n",
    "    input_arrivals_path = snakemake.input[\"arrivals\"]\n",
    "    input_date = snakemake.params[\"date\"]\n",
    "\n",
    "    output_path = snakemake.output[0]\n",
    "else:\n",
    "    input_departures_path = \"../../../../resources/brussels/airport/2023.Departure.aggregate.xlsx\"\n",
    "    input_arrivals_path = \"../../../../resources/brussels/airport/2023.Arrival.aggregate.xlsx\"\n",
    "    input_date = \"max\"\n",
    "    \n",
    "    output_path = \"../../../../results/brussels/airport/daily_totals.parquet\""
   ]
  },
  {
   "cell_type": "code",
   "execution_count": null,
   "metadata": {},
   "outputs": [],
   "source": [
    "df_departures = pd.read_excel(input_departures_path)\n",
    "df_departures = df_departures.rename(columns = { \"Date\": \"date\", \"Passenger\": \"passengers\" })\n",
    "df_departures[\"direction\"] = \"departures\"\n",
    "\n",
    "df_arrivals = pd.read_excel(input_arrivals_path)\n",
    "df_arrivals = df_arrivals.rename(columns = { \"Date\": \"date\", \"Passenger\": \"passengers\" })\n",
    "df_arrivals[\"direction\"] = \"arrivals\"\n",
    "\n",
    "df_daily = pd.concat([df_departures, df_arrivals])"
   ]
  },
  {
   "cell_type": "code",
   "execution_count": null,
   "metadata": {},
   "outputs": [],
   "source": [
    "px.line(\n",
    "    df_daily, x = \"date\", y = \"passengers\", color = \"direction\",\n",
    "    title = \"Daily passengers at Brussels airport\"\n",
    ")"
   ]
  },
  {
   "cell_type": "code",
   "execution_count": null,
   "metadata": {},
   "outputs": [],
   "source": [
    "df_daily = df_daily.pivot(index = [\"date\"], columns = [\"direction\"])\n",
    "df_daily.columns = [\"arrivals\", \"departures\"]\n",
    "df_daily = df_daily.reset_index()\n",
    "df_daily[\"total\"] = df_daily[\"arrivals\"] + df_daily[\"departures\"]"
   ]
  },
  {
   "cell_type": "code",
   "execution_count": null,
   "metadata": {},
   "outputs": [],
   "source": [
    "if input_date == \"max\":\n",
    "    df_result = df_daily.sort_values(by = \"total\", ascending = False).iloc[:1]\n",
    "else:\n",
    "    df_result = df_daily[df_daily[\"date\"] == input_date]\n",
    "\n",
    "assert len(df_result) == 1\n",
    "df_result"
   ]
  },
  {
   "cell_type": "code",
   "execution_count": null,
   "metadata": {},
   "outputs": [],
   "source": [
    "df_result = pd.DataFrame({\n",
    "    \"is_access\": [False, True],\n",
    "    \"count\": [df_result[\"arrivals\"].values[0], df_result[\"departures\"].values[0]]\n",
    "})\n",
    "\n",
    "df_result[\"weight\"] = df_result[\"count\"] / df_result[\"count\"].sum()\n",
    "df_result"
   ]
  },
  {
   "cell_type": "code",
   "execution_count": null,
   "metadata": {},
   "outputs": [],
   "source": [
    "df_result.to_parquet(output_path)"
   ]
  }
 ],
 "metadata": {
  "kernelspec": {
   "display_name": "maia",
   "language": "python",
   "name": "python3"
  },
  "language_info": {
   "codemirror_mode": {
    "name": "ipython",
    "version": 3
   },
   "file_extension": ".py",
   "mimetype": "text/x-python",
   "name": "python",
   "nbconvert_exporter": "python",
   "pygments_lexer": "ipython3",
   "version": "3.9.21"
  }
 },
 "nbformat": 4,
 "nbformat_minor": 2
}
