{
 "cells": [
  {
   "cell_type": "code",
   "execution_count": null,
   "metadata": {},
   "outputs": [],
   "source": [
    "import pandas as pd\n",
    "import numpy as np\n",
    "import plotly.express as px"
   ]
  },
  {
   "cell_type": "code",
   "execution_count": null,
   "metadata": {},
   "outputs": [],
   "source": [
    "if \"snakemake\" in locals():\n",
    "    input_path = snakemake.input[0]\n",
    "    output_path = snakemake.output[0]\n",
    "else:\n",
    "    input_path = \"../../../../resources/brussels/airport/Grouped_Parking_Data.csv\"\n",
    "    output_path = \"../../../../results/brussels/airport/parking.parquet\""
   ]
  },
  {
   "cell_type": "code",
   "execution_count": null,
   "metadata": {},
   "outputs": [],
   "source": [
    "# Load data\n",
    "df = pd.read_csv(input_path)"
   ]
  },
  {
   "cell_type": "code",
   "execution_count": null,
   "metadata": {},
   "outputs": [],
   "source": [
    "# Cleanup\n",
    "df[\"province\"] = df[\"province_Belgium\"].replace({\n",
    "    \"Antwerpen\": \"ant\",\n",
    "    \"Brussel\": \"bru\",\n",
    "    \"Henegouwen\": \"hen\",\n",
    "    \"Limburg\": \"lim\",\n",
    "    \"Luik\": \"lui\",\n",
    "    \"Luxemburg\": \"lux\",\n",
    "    \"Namen\": \"nam\",\n",
    "    \"Oost-Vlaanderen\": \"ovl\",\n",
    "    \"Vlaams Brabant\": \"vbr\",\n",
    "    \"Waals Brabant\": \"wbr\",\n",
    "    \"West-Vlaanderen\": \"wvl\"\n",
    "})\n",
    "\n",
    "assert not np.any(df[\"province\"].isna())\n",
    "df = df.drop(columns = [\"province_Belgium\"])\n",
    "\n",
    "df[\"cabin_class\"] = df[\"cabin_class\"].str.lower().str.strip()\n",
    "df[\"use_parking\"] = df[\"Parking\"] == \"Yes\"\n",
    "df[\"weight\"] = df[\"count\"]\n",
    "\n",
    "df = df[[\"province\", \"cabin_class\", \"use_parking\", \"weight\"]]"
   ]
  },
  {
   "cell_type": "code",
   "execution_count": null,
   "metadata": {},
   "outputs": [],
   "source": [
    "# Output\n",
    "df.to_parquet(output_path)"
   ]
  },
  {
   "cell_type": "code",
   "execution_count": null,
   "metadata": {},
   "outputs": [],
   "source": [
    "px.bar(df, x = \"use_parking\", color = \"province\", y = \"weight\", facet_col = \"cabin_class\")"
   ]
  }
 ],
 "metadata": {
  "kernelspec": {
   "display_name": "maia",
   "language": "python",
   "name": "python3"
  },
  "language_info": {
   "codemirror_mode": {
    "name": "ipython",
    "version": 3
   },
   "file_extension": ".py",
   "mimetype": "text/x-python",
   "name": "python",
   "nbconvert_exporter": "python",
   "pygments_lexer": "ipython3",
   "version": "3.12.0"
  }
 },
 "nbformat": 4,
 "nbformat_minor": 2
}
