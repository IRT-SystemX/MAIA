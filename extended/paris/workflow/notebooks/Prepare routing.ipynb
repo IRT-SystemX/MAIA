{
 "cells": [
  {
   "cell_type": "code",
   "execution_count": null,
   "metadata": {},
   "outputs": [],
   "source": [
    "import geopandas as gpd\n",
    "import pandas as pd\n",
    "import json"
   ]
  },
  {
   "cell_type": "code",
   "execution_count": 5,
   "metadata": {},
   "outputs": [],
   "source": [
    "if \"snakemake\" in locals():\n",
    "    input_path = snakemake.input[0]\n",
    "    output_path = snakemake.output[0]\n",
    "\n",
    "else:\n",
    "    input_path = \"../../results/demand/airport/cdg_seed0.gpkg\"\n",
    "    output_path = \"../../results/routing/routing.gpkg\""
   ]
  },
  {
   "cell_type": "code",
   "execution_count": 6,
   "metadata": {},
   "outputs": [],
   "source": [
    "# Load data\n",
    "df_demand = gpd.read_file(input_path)"
   ]
  },
  {
   "cell_type": "code",
   "execution_count": null,
   "metadata": {},
   "outputs": [],
   "source": [
    "# Prepare requests\n",
    "requests = []\n",
    "\n",
    "for index, row in df_demand.iterrows():\n",
    "    requests.append({\n",
    "        \"request_index\": row[\"request_index\"],\n",
    "        \"origin_x\": row[\"origin_x\"],\n",
    "        \"origin_y\": row[\"origin_y\"],\n",
    "        \"destination_x\": row[\"destination_x\"],\n",
    "        \"destination_y\": row[\"destination_y\"],\n",
    "        \"departure_time_s\": row[\"departure_time\"]\n",
    "    })"
   ]
  },
  {
   "cell_type": "code",
   "execution_count": null,
   "metadata": {},
   "outputs": [],
   "source": [
    "# Prepare overall request\n",
    "request = dict(road_router = requests, transit_router = requests)"
   ]
  },
  {
   "cell_type": "code",
   "execution_count": null,
   "metadata": {},
   "outputs": [],
   "source": [
    "# Write output\n",
    "with open(output_path, \"w+\") as f:\n",
    "    json.dump(request, f)"
   ]
  }
 ],
 "metadata": {
  "kernelspec": {
   "display_name": ".venv",
   "language": "python",
   "name": "python3"
  },
  "language_info": {
   "codemirror_mode": {
    "name": "ipython",
    "version": 3
   },
   "file_extension": ".py",
   "mimetype": "text/x-python",
   "name": "python",
   "nbconvert_exporter": "python",
   "pygments_lexer": "ipython3",
   "version": "3.12.3"
  }
 },
 "nbformat": 4,
 "nbformat_minor": 2
}
