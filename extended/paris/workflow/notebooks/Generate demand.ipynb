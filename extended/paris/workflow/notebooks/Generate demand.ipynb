{
 "cells": [
  {
   "cell_type": "code",
   "execution_count": null,
   "metadata": {},
   "outputs": [],
   "source": [
    "import numpy as np\n",
    "import pandas as pd\n",
    "import geopandas as gpd\n",
    "import scipy.stats as ss\n",
    "import plotly.express as px\n",
    "import shapely.geometry as sgeo\n",
    "import yaml"
   ]
  },
  {
   "cell_type": "code",
   "execution_count": null,
   "metadata": {},
   "outputs": [],
   "source": [
    "if \"snakemake\" in locals():\n",
    "    airport_path = snakemake.input[\"airport\"]\n",
    "    homes_path = snakemake.input[\"homes\"]\n",
    "    output_path = snakemake.output[0]\n",
    "\n",
    "    seed = int(snakemake.wildcards[\"seed\"])\n",
    "    airport_name = snakemake.wildcards[\"airport\"]\n",
    "\n",
    "else:\n",
    "    airport_path = \"../../resources/demand/cdg.yml\"\n",
    "    homes_path = \"../../resources/idf_homes.gpkg\"\n",
    "    output_path = \"../../results/demand/cdg.gpkg\"\n",
    "    seed = 0\n",
    "    airport_name = \"cdg\""
   ]
  },
  {
   "cell_type": "code",
   "execution_count": null,
   "metadata": {},
   "outputs": [],
   "source": [
    "# Initialize RNG\n",
    "random_state = np.random.RandomState(seed)"
   ]
  },
  {
   "cell_type": "code",
   "execution_count": null,
   "metadata": {},
   "outputs": [],
   "source": [
    "# Load data\n",
    "with open(airport_path) as f:\n",
    "    airport = yaml.load(f, yaml.FullLoader)\n",
    "\n",
    "# Load homes\n",
    "df_homes = gpd.read_file(homes_path)[[\"geometry\"]]"
   ]
  },
  {
   "cell_type": "code",
   "execution_count": null,
   "metadata": {},
   "outputs": [],
   "source": [
    "# Extract data\n",
    "profiles = list(airport[\"profiles\"].keys())\n",
    "\n",
    "# Total\n",
    "passengers = airport[\"passengers\"]\n",
    "\n",
    "# Profile share\n",
    "profile_share = np.array([\n",
    "    airport[\"profiles\"][profile][\"share\"]\n",
    "    for profile in profiles\n",
    "])\n",
    "profile_share /= profile_share.sum()\n",
    "\n",
    "# Departure shares\n",
    "departure_share = np.array(airport[\"temporal\"])\n",
    "departure_share /= departure_share.sum()"
   ]
  },
  {
   "cell_type": "code",
   "execution_count": null,
   "metadata": {},
   "outputs": [],
   "source": [
    "df_plot = pd.DataFrame({ \"Profile\": profiles, \"Percentage [%]\": profile_share * 1e2 })\n",
    "px.bar(df_plot, x = \"Profile\", y = \"Percentage [%]\", title = \"Share of user profiles\")"
   ]
  },
  {
   "cell_type": "code",
   "execution_count": null,
   "metadata": {},
   "outputs": [],
   "source": [
    "# Obtain approximate mean group size per profile\n",
    "group_size_per_profile = []\n",
    "estimation_samples = int(1e6)\n",
    "\n",
    "for profile in profiles:\n",
    "    config = airport[\"profiles\"][profile][\"group_size\"]\n",
    "    samples = ss.poisson(mu = config[\"mean\"]).rvs(estimation_samples, random_state = random_state)\n",
    "    samples = samples[samples <= config[\"upper\"]]\n",
    "\n",
    "    print(\"Mean group size for\", profile, \"is\", np.mean(samples), \"based on\", len(samples), \"samples\")\n",
    "    group_size_per_profile.append(np.mean(samples))\n",
    "\n",
    "group_size_per_profile = np.array(group_size_per_profile)"
   ]
  },
  {
   "cell_type": "code",
   "execution_count": null,
   "metadata": {},
   "outputs": [],
   "source": [
    "df_plot = pd.DataFrame({ \"Profile\": profiles, \"Avg. group size\": group_size_per_profile })\n",
    "px.bar(df_plot, x = \"Profile\", y = \"Avg. group size\", title = \"Average group size by user profile\")"
   ]
  },
  {
   "cell_type": "code",
   "execution_count": null,
   "metadata": {},
   "outputs": [],
   "source": [
    "# Generate profiles by time\n",
    "departures_per_profile = np.zeros((len(profiles), 24))\n",
    "\n",
    "for profile_index, profile in enumerate(profiles):\n",
    "    weights = np.zeros((24,))\n",
    "\n",
    "    for distribution in airport[\"profiles\"][profile][\"temporal\"]:\n",
    "        distribution = ss.norm(loc = distribution[\"mean\"], scale = distribution[\"std\"])\n",
    "        weights += distribution.pdf(np.arange(24))\n",
    "\n",
    "    weights /= np.sum(weights)\n",
    "    departures_per_profile[profile_index, :] = weights"
   ]
  },
  {
   "cell_type": "code",
   "execution_count": null,
   "metadata": {},
   "outputs": [],
   "source": [
    "df_plot = pd.concat([\n",
    "    pd.DataFrame({ \"Profile\": profile, \"Hour\": np.arange(24), \"Percentage [%]\": departures_per_profile[profile_index] * 1e2 })\n",
    "    for profile_index, profile in enumerate(profiles)\n",
    "])\n",
    "\n",
    "px.line(df_plot, color = \"Profile\", x = \"Hour\", y = \"Percentage [%]\", title = \"Distribution of departures per hour for profiles\")"
   ]
  },
  {
   "cell_type": "code",
   "execution_count": null,
   "metadata": {},
   "outputs": [],
   "source": [
    "df_plot = pd.DataFrame({ \"Hour\": np.arange(24), \"Percentage [%]\": departure_share * 1e2 })\n",
    "px.line(df_plot, x = \"Hour\", y = \"Percentage [%]\", title = \"Overall hourly deprature share for airport\")"
   ]
  },
  {
   "cell_type": "code",
   "execution_count": null,
   "metadata": {},
   "outputs": [],
   "source": [
    "# Perform weighting with seed based on hourly profiles per profile\n",
    "# Note that the weight is given in *passengers*\n",
    "\n",
    "weights = departures_per_profile.copy()\n",
    "\n",
    "# Match profile marginals\n",
    "for profile_index in range(len(profiles)):\n",
    "    target = profile_share[profile_index]\n",
    "    current = np.sum(weights[profile_index, :])\n",
    "    weights[profile_index, :] *= target / current\n",
    "\n",
    "# Match hourly marginals\n",
    "for hour in range(24):\n",
    "    target = departure_share[hour]\n",
    "    current = np.sum(weights[:, hour])\n",
    "    weights[:, hour] *= target / current"
   ]
  },
  {
   "cell_type": "code",
   "execution_count": null,
   "metadata": {},
   "outputs": [],
   "source": [
    "# Convert to data frame\n",
    "df_demand = pd.concat([\n",
    "    pd.DataFrame({ \n",
    "        \"hour\": np.arange(24), \"profile\": profile, \n",
    "        \"passengers\": weights[profile_index,:] * passengers,\n",
    "        \"requests\": weights[profile_index,:] * passengers / group_size_per_profile[profile_index]\n",
    "    })\n",
    "    for profile_index, profile in enumerate(profiles)\n",
    "])"
   ]
  },
  {
   "cell_type": "code",
   "execution_count": null,
   "metadata": {},
   "outputs": [],
   "source": [
    "df_plot = df_demand.rename(columns = { \"hour\": \"Hour\", \"passengers\": \"Passengers\", \"profile\": \"Profile\" })\n",
    "px.bar(df_plot, x = \"Hour\", y = \"Passengers\", color = \"Profile\", title = \"Passengers by hour\")"
   ]
  },
  {
   "cell_type": "code",
   "execution_count": null,
   "metadata": {},
   "outputs": [],
   "source": [
    "df_plot = df_demand.rename(columns = { \"hour\": \"Hour\", \"requests\": \"Requests\", \"profile\": \"Profile\" })\n",
    "px.bar(df_plot, x = \"Hour\", y = \"Requests\", color = \"Profile\", title = \"Requests by hour\")"
   ]
  },
  {
   "cell_type": "code",
   "execution_count": null,
   "metadata": {},
   "outputs": [],
   "source": [
    "df_plot = pd.concat([\n",
    "    pd.DataFrame({ \"Profile\": profile, \"Hour\": np.arange(24), \"Percentage [%]\": departures_per_profile[profile_index] * 1e2, \"Data\": \"Target\" })\n",
    "    for profile_index, profile in enumerate(profiles)\n",
    "] + [\n",
    "    pd.DataFrame({ \"Profile\": profile, \"Hour\": np.arange(24), \"Percentage [%]\": weights[profile_index] / weights[profile_index].sum() * 1e2, \"Data\": \"Output\" })\n",
    "    for profile_index, profile in enumerate(profiles)\n",
    "])\n",
    "\n",
    "px.line(df_plot, color = \"Profile\", x = \"Hour\", y = \"Percentage [%]\", line_dash = \"Data\", title = \"Hourly distribution comparison\")"
   ]
  },
  {
   "cell_type": "code",
   "execution_count": null,
   "metadata": {},
   "outputs": [],
   "source": [
    "# Airport geometry\n",
    "df_airport = gpd.GeoDataFrame(pd.DataFrame({ \n",
    "    \"geometry\": [sgeo.Point(*airport[\"location\"][\"coordinates\"])] }), crs = airport[\"location\"][\"crs\"])\n",
    "df_airport = df_airport.to_crs(df_homes.crs)\n",
    "airport_geometry = df_airport[\"geometry\"].values[0]"
   ]
  },
  {
   "cell_type": "code",
   "execution_count": null,
   "metadata": {},
   "outputs": [],
   "source": [
    "# Statistical rounding / TRS\n",
    "weights = df_demand[\"requests\"]\n",
    "multipliers = np.floor(weights)\n",
    "multipliers += random_state.random_sample(len(weights)) <= np.mod(weights, 1.0)\n",
    "df_demand[\"requests\"] = multipliers\n",
    "df_demand[\"requests\"] = df_demand[\"requests\"].astype(int)"
   ]
  },
  {
   "cell_type": "code",
   "execution_count": null,
   "metadata": {},
   "outputs": [],
   "source": [
    "# Expand data set\n",
    "df_demand = df_demand.iloc[np.repeat(np.arange(len(df_demand)), df_demand[\"requests\"].values)]\n",
    "df_demand = df_demand.drop(columns = [\"passengers\", \"requests\"])"
   ]
  },
  {
   "cell_type": "code",
   "execution_count": null,
   "metadata": {},
   "outputs": [],
   "source": [
    "# Sample geometries\n",
    "total_requests = len(df_demand)\n",
    "\n",
    "half = total_requests // 2\n",
    "geometries = df_homes[\"geometry\"].sample(n = total_requests, replace = True, random_state = random_state)\n",
    "\n",
    "df_demand[\"geometry\"] = [\n",
    "    sgeo.LineString([geometry, airport_geometry])\n",
    "    for geometry in geometries[:half]\n",
    "] + [\n",
    "    sgeo.LineString([airport_geometry, geometry])\n",
    "    for geometry in geometries[half:]\n",
    "]\n",
    "\n",
    "df_demand = gpd.GeoDataFrame(df_demand, crs = df_homes.crs)"
   ]
  },
  {
   "cell_type": "code",
   "execution_count": null,
   "metadata": {},
   "outputs": [],
   "source": [
    "# Sample group size\n",
    "assignment_samples = int(1e6)\n",
    "\n",
    "for profile in profiles:\n",
    "    config = airport[\"profiles\"][profile][\"group_size\"]\n",
    "    samples = ss.poisson(mu = config[\"mean\"]).rvs(estimation_samples, random_state = random_state)\n",
    "    samples = samples[samples <= config[\"upper\"]]\n",
    "\n",
    "    f = df_demand[\"profile\"] == profile\n",
    "    df_demand.loc[f, \"group_size\"] = samples[:np.count_nonzero(f)]"
   ]
  },
  {
   "cell_type": "code",
   "execution_count": null,
   "metadata": {},
   "outputs": [],
   "source": [
    "# Sample departure time\n",
    "offset = random_state.random_sample(len(df_demand)) * 3600.0\n",
    "df_demand[\"departure_time\"] = df_demand[\"hour\"] * 3600 + offset\n",
    "df_demand = df_demand.drop(columns = [\"hour\"])"
   ]
  },
  {
   "cell_type": "code",
   "execution_count": null,
   "metadata": {},
   "outputs": [],
   "source": [
    "# Generate additional columns\n",
    "df_demand[\"origin_x\"] = df_demand[\"geometry\"].apply(lambda p: p.coords[0][0])\n",
    "df_demand[\"origin_y\"] = df_demand[\"geometry\"].apply(lambda p: p.coords[0][1])\n",
    "df_demand[\"destination_x\"] = df_demand[\"geometry\"].apply(lambda p: p.coords[1][0])\n",
    "df_demand[\"destination_y\"] = df_demand[\"geometry\"].apply(lambda p: p.coords[1][1])"
   ]
  },
  {
   "cell_type": "code",
   "execution_count": null,
   "metadata": {},
   "outputs": [],
   "source": [
    "# Write name\n",
    "df_demand[\"airport\"] = airport_name\n",
    "df_demand[\"request_index\"] = np.arange(len(df_demand))"
   ]
  },
  {
   "cell_type": "code",
   "execution_count": null,
   "metadata": {},
   "outputs": [],
   "source": [
    "# Write output\n",
    "df_demand.to_file(output_path)"
   ]
  }
 ],
 "metadata": {
  "kernelspec": {
   "display_name": ".venv",
   "language": "python",
   "name": "python3"
  },
  "language_info": {
   "codemirror_mode": {
    "name": "ipython",
    "version": 3
   },
   "file_extension": ".py",
   "mimetype": "text/x-python",
   "name": "python",
   "nbconvert_exporter": "python",
   "pygments_lexer": "ipython3",
   "version": "3.12.3"
  }
 },
 "nbformat": 4,
 "nbformat_minor": 2
}
