{
 "cells": [
  {
   "cell_type": "code",
   "execution_count": null,
   "metadata": {},
   "outputs": [],
   "source": [
    "import json, yaml\n",
    "\n",
    "import scipy.stats as ss\n",
    "import scipy.optimize as sopt\n",
    "\n",
    "import numpy as np\n",
    "import pandas as pd\n",
    "import geopandas as gpd\n",
    "\n",
    "import plotly.express as px"
   ]
  },
  {
   "cell_type": "code",
   "execution_count": null,
   "metadata": {},
   "outputs": [],
   "source": [
    "if \"snakemake\" in locals():\n",
    "    demand_path = snakemake.input[\"demand\"]\n",
    "    routes_path = snakemake.input[\"routes\"]\n",
    "    scenario_path = snakemake.input[\"scenario\"]\n",
    "    output_path = snakemake.output[0]\n",
    "\n",
    "else:\n",
    "    demand_path = \"../../results/demand/merged_seed1000.gpkg\"\n",
    "    routes_path = \"../../results/routing/routes_seed1000.json\"\n",
    "    scenario_path = \"../../resources/mode_choice/scenario.yml\"\n",
    "    output_path = \"../../results/mode_choice/choices.gpkg\""
   ]
  },
  {
   "cell_type": "code",
   "execution_count": null,
   "metadata": {},
   "outputs": [],
   "source": [
    "# Load parameters\n",
    "with open(scenario_path) as f:\n",
    "    parameters = yaml.load(f, yaml.FullLoader)\n",
    "\n",
    "model = parameters[\"model\"]"
   ]
  },
  {
   "cell_type": "code",
   "execution_count": null,
   "metadata": {},
   "outputs": [],
   "source": [
    "# Load routes\n",
    "with open(routes_path) as f:\n",
    "    routes = json.load(f)"
   ]
  },
  {
   "cell_type": "code",
   "execution_count": null,
   "metadata": {},
   "outputs": [],
   "source": [
    "# Load demand\n",
    "df_demand = gpd.read_file(demand_path)"
   ]
  },
  {
   "cell_type": "code",
   "execution_count": null,
   "metadata": {},
   "outputs": [],
   "source": [
    "# Convert to data frames\n",
    "df_road = pd.DataFrame.from_records(routes[\"road_router\"])[[\n",
    "    \"request_index\", \"in_vehicle_time_min\", \"in_vehicle_distance_km\"\n",
    "]]\n",
    "\n",
    "df_road.columns = [\"road_{}\".format(c) if c != \"request_index\" else c for c in df_road.columns]\n",
    "\n",
    "df_transit = pd.DataFrame.from_records(routes[\"transit_router\"])[[\n",
    "    \"request_index\", \"access_walk_time_min\", \"egress_walk_time_min\", \"transfer_walk_time_min\",\n",
    "    \"initial_wait_time_min\", \"transfer_wait_time_min\",\n",
    "    \"in_vehicle_travel_time\"\n",
    "]].rename(columns = { \"in_vehicle_travel_time\": \"in_vehicle_travel_time_min\" })\n",
    "\n",
    "df_transit.columns = [\"transit_{}\".format(c) if c != \"request_index\" else c for c in df_transit.columns]"
   ]
  },
  {
   "cell_type": "code",
   "execution_count": null,
   "metadata": {},
   "outputs": [],
   "source": [
    "# Merge everything\n",
    "df_demand = pd.merge(df_demand, df_road, on = \"request_index\")\n",
    "df_demand = pd.merge(df_demand, df_transit, on = \"request_index\")"
   ]
  },
  {
   "cell_type": "code",
   "execution_count": null,
   "metadata": {},
   "outputs": [],
   "source": [
    "# Scale travel time\n",
    "df_demand[\"road_in_vehicle_time_min\"] *= parameters[\"congestion_factor\"]"
   ]
  },
  {
   "cell_type": "code",
   "execution_count": null,
   "metadata": {},
   "outputs": [],
   "source": [
    "# Attach VTTS parameters\n",
    "for profile in df_demand[\"profile\"].unique():\n",
    "    value = parameters[\"model\"][\"vtts\"][profile]\n",
    "    f_profile = df_demand[\"profile\"] == profile\n",
    "    df_demand.loc[f_profile, \"vtts\"] = value"
   ]
  },
  {
   "cell_type": "code",
   "execution_count": null,
   "metadata": {},
   "outputs": [],
   "source": [
    "# Construct utility for car (without ASC)\n",
    "df_demand[\"car_utility\"] = 0.0\n",
    "\n",
    "car_travel_time_h = df_demand[\"road_in_vehicle_time_min\"] / 60.0\n",
    "df_demand[\"car_utility\"] -= car_travel_time_h * df_demand[\"vtts\"]\n",
    "\n",
    "car_cost = df_demand[\"road_in_vehicle_distance_km\"] * parameters[\"modes\"][\"car\"][\"cost_per_km\"]\n",
    "car_cost /= df_demand[\"group_size\"]\n",
    "df_demand[\"car_utility\"] -= car_cost"
   ]
  },
  {
   "cell_type": "code",
   "execution_count": null,
   "metadata": {},
   "outputs": [],
   "source": [
    "# Construct utility for taxi (without ASC)\n",
    "df_demand[\"taxi_utility\"] = 0.0\n",
    "\n",
    "taxi_travel_time_h = df_demand[\"road_in_vehicle_time_min\"] / 60.0\n",
    "df_demand[\"taxi_utility\"] -= taxi_travel_time_h * df_demand[\"vtts\"]\n",
    "\n",
    "taxi_cost = df_demand[\"road_in_vehicle_distance_km\"] * parameters[\"modes\"][\"taxi\"][\"cost_per_km\"]\n",
    "taxi_cost += parameters[\"modes\"][\"taxi\"][\"cost_per_trip\"]\n",
    "taxi_cost /= df_demand[\"group_size\"]\n",
    "df_demand[\"taxi_utility\"] -= taxi_cost\n",
    "\n",
    "vwts = df_demand[\"vtts\"] * model[\"wait_time_factor\"] * parameters[\"modes\"][\"taxi\"][\"vwts_factor\"]\n",
    "taxi_wait_time_h = parameters[\"modes\"][\"taxi\"][\"wait_time_min\"] / 60.0\n",
    "df_demand[\"taxi_utility\"] -= taxi_wait_time_h * vwts"
   ]
  },
  {
   "cell_type": "code",
   "execution_count": null,
   "metadata": {},
   "outputs": [],
   "source": [
    "# Construct utility for CCAM (without ASC)\n",
    "df_demand[\"ccam_utility\"] = 0.0\n",
    "\n",
    "ccam_travel_time_h = df_demand[\"road_in_vehicle_time_min\"] / 60.0\n",
    "df_demand[\"ccam_utility\"] -= ccam_travel_time_h * df_demand[\"vtts\"]\n",
    "\n",
    "ccam_cost = df_demand[\"road_in_vehicle_distance_km\"] * parameters[\"modes\"][\"ccam\"][\"cost_per_km\"]\n",
    "ccam_cost += parameters[\"modes\"][\"ccam\"][\"cost_per_trip\"]\n",
    "ccam_cost /= df_demand[\"group_size\"]\n",
    "df_demand[\"ccam_utility\"] -= ccam_cost\n",
    "\n",
    "vwts = df_demand[\"vtts\"] * model[\"wait_time_factor\"] * parameters[\"modes\"][\"ccam\"][\"vwts_factor\"]\n",
    "ccam_wait_time_h = parameters[\"modes\"][\"ccam\"][\"wait_time_min\"] / 60.0\n",
    "df_demand[\"ccam_utility\"] -= ccam_wait_time_h * vwts"
   ]
  },
  {
   "cell_type": "code",
   "execution_count": null,
   "metadata": {},
   "outputs": [],
   "source": [
    "# Construct utility for transit (without ASC)\n",
    "df_demand[\"transit_utility\"] = 0.0\n",
    "\n",
    "transit_travel_time_h = df_demand[\"transit_in_vehicle_travel_time_min\"] / 60.0\n",
    "df_demand[\"transit_utility\"] -= transit_travel_time_h * df_demand[\"vtts\"]\n",
    "\n",
    "transit_cost = parameters[\"modes\"][\"transit\"][\"cost_per_person\"]\n",
    "df_demand[\"transit_utility\"] -= transit_cost\n",
    "\n",
    "transit_wait_time_h = df_demand[\"transit_initial_wait_time_min\"] / 60.0 + df_demand[\"transit_transfer_wait_time_min\"] / 60.0\n",
    "vwts = df_demand[\"vtts\"] * model[\"wait_time_factor\"]\n",
    "df_demand[\"transit_utility\"] -= transit_wait_time_h * vwts\n",
    "\n",
    "transit_walk_time_h = df_demand[\"transit_access_walk_time_min\"] / 60.0 + df_demand[\"transit_egress_walk_time_min\"] / 60.0 + df_demand[\"transit_transfer_walk_time_min\"] / 60.0\n",
    "vwts = df_demand[\"vtts\"] * model[\"walk_time_factor\"]\n",
    "df_demand[\"transit_utility\"] -= transit_walk_time_h * vwts"
   ]
  },
  {
   "cell_type": "code",
   "execution_count": null,
   "metadata": {},
   "outputs": [],
   "source": [
    "# Extract relevant information\n",
    "df_demand = df_demand[[\n",
    "    \"request_index\", \"origin_x\", \"origin_y\", \"destination_x\", \"destination_y\", \"geometry\",\n",
    "    \"profile\", \"group_size\",\n",
    "    \"car_utility\", \"transit_utility\", \"taxi_utility\", \"ccam_utility\"\n",
    "]].copy()"
   ]
  },
  {
   "cell_type": "code",
   "execution_count": null,
   "metadata": {},
   "outputs": [],
   "source": [
    "# Initialize RNG and Gumbel distribution\n",
    "random_state = np.random.RandomState(seed = 0)\n",
    "distribution = ss.gumbel_r()"
   ]
  },
  {
   "cell_type": "code",
   "execution_count": null,
   "metadata": {},
   "outputs": [],
   "source": [
    "# Sample random preference terms\n",
    "df_demand[\"car_utility\"] += distribution.rvs(len(df_demand), random_state = random_state)\n",
    "df_demand[\"transit_utility\"] += distribution.rvs(len(df_demand), random_state = random_state)\n",
    "df_demand[\"taxi_utility\"] += distribution.rvs(len(df_demand), random_state = random_state)\n",
    "df_demand[\"ccam_utility\"] += distribution.rvs(len(df_demand), random_state = random_state)"
   ]
  },
  {
   "cell_type": "code",
   "execution_count": null,
   "metadata": {},
   "outputs": [],
   "source": [
    "# Calibration of the model\n",
    "modes = [\"car\", \"transit\", \"taxi\"]\n",
    "\n",
    "target = np.array([parameters[\"calibration\"][mode] for mode in modes])\n",
    "target = target / np.sum(target)\n",
    "\n",
    "# constants = { car, taxi }\n",
    "def objective(constants):\n",
    "    utilities = df_demand[[\"{}_utility\".format(m) for m in modes]].values\n",
    "    utilities[:, modes.index(\"car\")] += constants[0]\n",
    "    utilities[:, modes.index(\"taxi\")] += constants[1]\n",
    "\n",
    "    selection = np.argmax(utilities, axis = 1)\n",
    "    shares = np.array([np.count_nonzero(selection == k) for k in range(3)])\n",
    "    shares = shares / np.sum(shares)\n",
    "\n",
    "    return np.sum(np.abs(shares - target))\n",
    "\n",
    "result = sopt.dual_annealing(\n",
    "    objective, bounds = [[-10.0, 10.0], [-10.0, 10.0]], \n",
    "    x0 = [0.0, 0.0], maxiter = 1000\n",
    ")\n",
    "\n",
    "assert result.success\n",
    "assert result.fun < 1e-3\n",
    "\n",
    "# Insert constants\n",
    "df_demand[\"car_utility\"] += result.x[0]\n",
    "df_demand[\"taxi_utility\"] += result.x[1]\n",
    "df_demand[\"ccam_utility\"] += result.x[1] # CCAM gets taxi offset"
   ]
  },
  {
   "cell_type": "code",
   "execution_count": null,
   "metadata": {},
   "outputs": [],
   "source": [
    "# Perform choice based on calibrated utilities\n",
    "utilities = df_demand[[\"{}_utility\".format(m) for m in modes]].values    \n",
    "selection = np.argmax(utilities, axis = 1)\n",
    "df_demand[\"mode\"] = [modes[k] for k in selection]"
   ]
  },
  {
   "cell_type": "code",
   "execution_count": null,
   "metadata": {},
   "outputs": [],
   "source": [
    "df_plot = df_demand.groupby(\"mode\").size().reset_index(name = \"share\")\n",
    "df_plot[\"share\"] /= df_plot[\"share\"].sum()\n",
    "df_plot[\"source\"] = \"model\"\n",
    "df_plot = pd.concat([df_plot, pd.DataFrame({ \"mode\": modes, \"share\": target, \"source\": \"reference\" })])\n",
    "px.bar(df_plot, x = \"mode\", y = \"share\", color = \"source\", barmode = \"group\",\n",
    "    title = \"Model fit after constant calibration\")"
   ]
  },
  {
   "cell_type": "code",
   "execution_count": null,
   "metadata": {},
   "outputs": [],
   "source": [
    "# Remove columns\n",
    "df_demand = df_demand.drop(columns = [\n",
    "    \"car_utility\", \"transit_utility\", \"taxi_utility\", \"ccam_utility\"\n",
    "])"
   ]
  },
  {
   "cell_type": "code",
   "execution_count": null,
   "metadata": {},
   "outputs": [],
   "source": [
    "# Output\n",
    "df_demand.to_file(output_path)"
   ]
  }
 ],
 "metadata": {
  "kernelspec": {
   "display_name": ".venv",
   "language": "python",
   "name": "python3"
  },
  "language_info": {
   "codemirror_mode": {
    "name": "ipython",
    "version": 3
   },
   "file_extension": ".py",
   "mimetype": "text/x-python",
   "name": "python",
   "nbconvert_exporter": "python",
   "pygments_lexer": "ipython3",
   "version": "3.12.3"
  }
 },
 "nbformat": 4,
 "nbformat_minor": 2
}
