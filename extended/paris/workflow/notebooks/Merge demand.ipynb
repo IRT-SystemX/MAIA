{
 "cells": [
  {
   "cell_type": "code",
   "execution_count": null,
   "metadata": {},
   "outputs": [],
   "source": [
    "import geopandas as gpd\n",
    "import pandas as pd\n",
    "import numpy as np"
   ]
  },
  {
   "cell_type": "code",
   "execution_count": null,
   "metadata": {},
   "outputs": [],
   "source": [
    "if \"snakemake\" in locals():\n",
    "    input_paths = snakemake.input\n",
    "    output_path = snakemake.output[0]\n",
    "\n",
    "else:\n",
    "    input_paths = [\n",
    "        \"../../results/demand/airport/cdg.gpkg\",\n",
    "        \"../../results/demand/airport/ory.gpkg\",\n",
    "    ]\n",
    "\n",
    "    output_path = \"../../results/demand/all.gpkg\""
   ]
  },
  {
   "cell_type": "code",
   "execution_count": null,
   "metadata": {},
   "outputs": [],
   "source": [
    "# Concat the demand\n",
    "df_demand = pd.concat([gpd.read_file(path) for path in input_paths])\n",
    "df_demand[\"request_index\"] = np.arange(len(df_demand))"
   ]
  },
  {
   "cell_type": "code",
   "execution_count": null,
   "metadata": {},
   "outputs": [],
   "source": [
    "# Write\n",
    "df_demand.to_file(output_path)"
   ]
  }
 ],
 "metadata": {
  "kernelspec": {
   "display_name": ".venv",
   "language": "python",
   "name": "python3"
  },
  "language_info": {
   "codemirror_mode": {
    "name": "ipython",
    "version": 3
   },
   "file_extension": ".py",
   "mimetype": "text/x-python",
   "name": "python",
   "nbconvert_exporter": "python",
   "pygments_lexer": "ipython3",
   "version": "3.12.3"
  }
 },
 "nbformat": 4,
 "nbformat_minor": 2
}
